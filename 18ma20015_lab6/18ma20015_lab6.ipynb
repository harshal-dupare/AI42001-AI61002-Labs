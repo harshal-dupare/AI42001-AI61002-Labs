{
 "cells": [
  {
   "cell_type": "markdown",
   "metadata": {
    "id": "74jdKheuj6V1"
   },
   "source": [
    "# Harshal Dupare | 18MA20015"
   ]
  },
  {
   "cell_type": "markdown",
   "metadata": {
    "id": "7fQV-Fljj6V6"
   },
   "source": [
    "Weather Classification from Images\n",
    "\n",
    "The objective of this assignmentis to predict the weather conditions from a set of images. The weatherconditions are cloudy, rain, shine and sunrise. Thus, you have to classify each of the images into one of thesefour categories.\n",
    "\n",
    "You need to use SIFT image features and KNN algorithm to classify the images. For KNN set k to 20. Note that number of SIFT feature vectors are not same for all the images. Thus, while applying KNN, you have to handle this differently to compute the similarity between images.\n",
    "\n",
    "For this purpose, you use the following similarity measure between two images. Assume thatyou have two images I1 and I2 with number of SIFT feature vectors m and n. The distancebetween  I1  and  I2  is  defined  as the average  Euclidean distance  of  the firstand  the second  closest points of the two images. \n",
    "\n",
    "Training and submission guidelines: You  must  use  80%  images  from  each of  the class  for training and  the  rests  for  testing  your implementation.Submit  your  code  and  the  final  accuracy  on  the  test  set  in  two  separate  files  in moodle. "
   ]
  },
  {
   "cell_type": "code",
   "execution_count": null,
   "metadata": {
    "id": "CtjBChNy2b7N"
   },
   "outputs": [],
   "source": [
    "# ran on colab\n",
    "!pip install opencv-python==3.4.2.16\n",
    "!pip install opencv-contrib-python==3.4.2.16"
   ]
  },
  {
   "cell_type": "code",
   "execution_count": 122,
   "metadata": {
    "id": "j-QSRTggj6V7"
   },
   "outputs": [],
   "source": [
    "import os\n",
    "import pandas as pd\n",
    "import numpy as np\n",
    "import matplotlib.pyplot as plt\n",
    "from tqdm import tqdm_notebook as tqdm\n",
    "\n",
    "import cv2 \n",
    "from sklearn.model_selection import train_test_split\n",
    "from sklearn.neighbors import KDTree\n",
    "from sklearn.neighbors import KNeighborsClassifier \n",
    "from sklearn.metrics import classification_report"
   ]
  },
  {
   "cell_type": "code",
   "execution_count": 7,
   "metadata": {
    "colab": {
     "base_uri": "https://localhost:8080/"
    },
    "id": "G7pVpJSkkpg-",
    "outputId": "79472e49-b767-4345-abd4-53585ccfe3a4"
   },
   "outputs": [
    {
     "name": "stdout",
     "output_type": "stream",
     "text": [
      "Drive already mounted at /content/drive; to attempt to forcibly remount, call drive.mount(\"/content/drive\", force_remount=True).\n"
     ]
    }
   ],
   "source": [
    "from google.colab import drive\n",
    "drive.mount('/content/drive')"
   ]
  },
  {
   "cell_type": "code",
   "execution_count": 8,
   "metadata": {
    "id": "7soQkJ6qj6V8"
   },
   "outputs": [],
   "source": [
    "ML_LAB = os.path.join(os.getcwd(),'drive','MyDrive','ML')\n",
    "DATA_FOLDER = os.path.join(ML_LAB,\"dataset2\")\n",
    "LABELS = ['cloudy','rain','shine','sunrise']\n",
    "EXT = ['.jpg','jpeg','.png']\n",
    "SIZE = [300,215,253,357]"
   ]
  },
  {
   "cell_type": "code",
   "execution_count": 51,
   "metadata": {
    "id": "GfGD9unjj6V8"
   },
   "outputs": [],
   "source": [
    "# distance function\n",
    "\n",
    "# O(n^2) distance algorithm\n",
    "def sift_dist(x,y):\n",
    "    try:\n",
    "        dist=[]\n",
    "        for i in range(x.shape[0]):\n",
    "            for j in range(y.shape[0]):\n",
    "                d=np.linalg.norm(x[i]-y[j])\n",
    "                dist.append((d,i,j))                \n",
    "        dist=sorted(dist)\n",
    "        s={dist[0][1],dist[0][2]}\n",
    "        d=dist[0][0]\n",
    "        for j in range(1,len(dist)):\n",
    "            S = s.copy()\n",
    "            D = (d+dist[j][0])/2\n",
    "            S.add(dist[j][1])\n",
    "            S.add(dist[j][2])\n",
    "            if len(S)==4:\n",
    "                break\n",
    "\n",
    "        return D\n",
    "    except:\n",
    "        return float('inf')\n",
    "\n",
    "# O(nlog(n)) distance algorithm\n",
    "def sift_dist1(x,y):\n",
    "    try:\n",
    "        tree = KDTree(x, leaf_size=2)\n",
    "        dist = []\n",
    "        for i in range(y.shape[0]):\n",
    "            disti, indi = tree.query(y[i:i+1], k=1)\n",
    "            dist.append((disti,indi[0][0],i))\n",
    "\n",
    "        dist=sorted(dist)\n",
    "        s={dist[0][1],dist[0][2]}\n",
    "        d=dist[0][0]\n",
    "    for j in range(1,len(dist)):\n",
    "        S = s.copy()\n",
    "        D = (d+dist[j][0])/2\n",
    "        S.add(dist[j][1])\n",
    "        S.add(dist[j][2])\n",
    "        if len(S)==4:\n",
    "            break\n",
    "\n",
    "        return D[0][0]\n",
    "    except:\n",
    "          return float('inf')\n",
    "\n",
    "    "
   ]
  },
  {
   "cell_type": "code",
   "execution_count": 10,
   "metadata": {
    "colab": {
     "base_uri": "https://localhost:8080/",
     "height": 262,
     "referenced_widgets": [
      "3b7cf677668c437d88f09c8fe4cefcce",
      "a1e39caed62e44f9b4d2cfbcbfb8296a",
      "c4180c89e0be4734ada7068d6d42af90",
      "d599df437b1d4310b1f3b39781cc217e",
      "add4928563514d3892eb3a4b746deb84",
      "2148171c350c4b5f9930b0baaef0a837",
      "feea881735c3434aa2bae747a930f6a7",
      "6f25f5ac977a44a68126e64d0a30302a",
      "e56eb9072fe0475e8a2384692b9e0fd7",
      "0a57178145a7469f9105d21df4b4b244",
      "1796e752fb464daabf956cb6096ef18a",
      "8e54736217ce44e0aa71f95d02a86caf",
      "374f2d5346f349058cb8ee8b5a5bac26",
      "05daf5157da04406be0c5c1c7c24339f",
      "2bec46b3ac4f4f4989e25f4a588fd544",
      "c192c6facbe64b67bbbe160d3206727a",
      "d3842ea70fb740b3a1cc56ae142f565b",
      "21898685c9a34f7d95cdd1d02d2126d6",
      "66cfb884e7d349fe9a660b2bd35622b0",
      "866f0230120d4c8f894960ac329761dc",
      "3ec41c6d0b574ec18cb673c21c781260",
      "b5ee9fe4da8c4aecaa567f205ce252fa",
      "9e9cd589ae89436783d7a81a979a32ca",
      "e84931b691c049d98229088f031cd4f1",
      "afdbd946a60a4dab8fc23484d4fd5038",
      "10cf5396a953434691ff4121ef85c0da",
      "d860307b950c466dbd2009bcb20af124",
      "956cb9ebe48040238647626b0132ae1e",
      "45af5589a67d4cd387c3c58661486a87",
      "73e748c526e04923b10812ebbffab56d",
      "2c4baa69199643f68f683938e140062f",
      "c141c3dd89c1408987a78ceef3fe4e0d"
     ]
    },
    "id": "r9tM84xuj6V9",
    "outputId": "19203bae-7b21-4206-b9a7-622fce535304"
   },
   "outputs": [
    {
     "name": "stderr",
     "output_type": "stream",
     "text": [
      "/usr/local/lib/python3.6/dist-packages/ipykernel_launcher.py:8: TqdmDeprecationWarning: This function will be removed in tqdm==5.0.0\n",
      "Please use `tqdm.notebook.tqdm` instead of `tqdm.tqdm_notebook`\n",
      "  \n"
     ]
    },
    {
     "data": {
      "application/vnd.jupyter.widget-view+json": {
       "model_id": "3b7cf677668c437d88f09c8fe4cefcce",
       "version_major": 2,
       "version_minor": 0
      },
      "text/plain": [
       "HBox(children=(FloatProgress(value=0.0, max=300.0), HTML(value='')))"
      ]
     },
     "metadata": {
      "tags": []
     },
     "output_type": "display_data"
    },
    {
     "name": "stdout",
     "output_type": "stream",
     "text": [
      "\n"
     ]
    },
    {
     "data": {
      "application/vnd.jupyter.widget-view+json": {
       "model_id": "e56eb9072fe0475e8a2384692b9e0fd7",
       "version_major": 2,
       "version_minor": 0
      },
      "text/plain": [
       "HBox(children=(FloatProgress(value=0.0, max=215.0), HTML(value='')))"
      ]
     },
     "metadata": {
      "tags": []
     },
     "output_type": "display_data"
    },
    {
     "name": "stdout",
     "output_type": "stream",
     "text": [
      "\n"
     ]
    },
    {
     "data": {
      "application/vnd.jupyter.widget-view+json": {
       "model_id": "d3842ea70fb740b3a1cc56ae142f565b",
       "version_major": 2,
       "version_minor": 0
      },
      "text/plain": [
       "HBox(children=(FloatProgress(value=0.0, max=253.0), HTML(value='')))"
      ]
     },
     "metadata": {
      "tags": []
     },
     "output_type": "display_data"
    },
    {
     "name": "stdout",
     "output_type": "stream",
     "text": [
      "\n"
     ]
    },
    {
     "data": {
      "application/vnd.jupyter.widget-view+json": {
       "model_id": "afdbd946a60a4dab8fc23484d4fd5038",
       "version_major": 2,
       "version_minor": 0
      },
      "text/plain": [
       "HBox(children=(FloatProgress(value=0.0, max=357.0), HTML(value='')))"
      ]
     },
     "metadata": {
      "tags": []
     },
     "output_type": "display_data"
    },
    {
     "name": "stdout",
     "output_type": "stream",
     "text": [
      "\n"
     ]
    }
   ],
   "source": [
    "# Computing the key points and storing them\n",
    "MAX_POINTS=50 # using only top 50 points\n",
    "points=dict()\n",
    "error_list=[]\n",
    "sift = cv2.xfeatures2d.SIFT_create(MAX_POINTS)\n",
    "for l,i in zip(LABELS,range(len(LABELS))):\n",
    "    points[l]=[]\n",
    "    for j in tqdm(list(range(1,SIZE[i]+1))):\n",
    "        try:\n",
    "            for ext in EXT:\n",
    "                if os.path.exists(os.path.join(DATA_FOLDER,l+str(j)+ext)):\n",
    "                    img = cv2.imread(os.path.join(DATA_FOLDER,l+str(j)+ext))  \n",
    "                    break\n",
    "            img = cv2.cvtColor(img, cv2.COLOR_BGR2GRAY)\n",
    "            keys, pts = sift.detectAndCompute(img,None)\n",
    "            if type(pts) == type(None):\n",
    "                continue\n",
    "            points[l].append(pts)\n",
    "        except:\n",
    "            error_list.append(os.path.join(DATA_FOLDER,l+str(j)))"
   ]
  },
  {
   "cell_type": "code",
   "execution_count": 133,
   "metadata": {
    "colab": {
     "base_uri": "https://localhost:8080/"
    },
    "id": "NOkrd5bKj6V9",
    "outputId": "2b11fc52-8fe4-4276-ce6f-587c7e3d801c"
   },
   "outputs": [
    {
     "name": "stdout",
     "output_type": "stream",
     "text": [
      "604.5676049295461 mins\n",
      "0.055492421907232796 mins\n",
      "they are just estimates and give rough idea the real time takes depends alot on the constants - which is machine dependent\n"
     ]
    }
   ],
   "source": [
    "# Time Complexity calculation\n",
    "\n",
    "T = 0 # for n^2 distance algorithm\n",
    "T2 = 0 # for nlog(n) distance algorithm\n",
    "n_i=0\n",
    "n_i2=0\n",
    "for l in LABELS:\n",
    "    for p in points[l]:\n",
    "        if type(p)!=type(np.array([1,2])):\n",
    "            continue\n",
    "        n_i+=p.shape[0]\n",
    "        n_i2+=p.shape[0]**2\n",
    "        T+=p.shape[0]*np.log(p.shape[0])\n",
    "        T2+=p.shape[0]*(np.log(p.shape[0])+1)\n",
    "T += (n_i**2-n_i2)*p.shape[1]\n",
    "T2 *= p.shape[1]\n",
    "print(T*1e-7/(60),'mins')\n",
    "print(T2*1e-7/(60),'mins')\n",
    "print(\"they are just estimates and give rough idea the real time takes depends alot on the constants - which is machine dependent\")"
   ]
  },
  {
   "cell_type": "code",
   "execution_count": 69,
   "metadata": {
    "id": "8Ylxgw5Yj6V9"
   },
   "outputs": [],
   "source": [
    "for l in LABELS:\n",
    "    for p in points[l]:\n",
    "        if type(p)!=type(np.array([1,2])):\n",
    "            print(l)\n",
    "            print(type(p))\n",
    "            \n",
    "# setting up train and test data\n",
    "dX=dict()\n",
    "dy=dict()\n",
    "for i in range(len(LABELS)):\n",
    "    l=LABELS[i]\n",
    "    dX[l]=[]\n",
    "    dy[l]=[]\n",
    "    for j in range(len(points[l])):\n",
    "        dX[l].append([i,j])\n",
    "        dy[l].append(i)"
   ]
  },
  {
   "cell_type": "code",
   "execution_count": 70,
   "metadata": {
    "id": "wiMRKIBQj6V-"
   },
   "outputs": [],
   "source": [
    "# Train Test Split\n",
    "split=0.8\n",
    "X_train=[]\n",
    "y_train=[]\n",
    "X_test=[]\n",
    "y_test=[]\n",
    "for i in range(len(LABELS)):\n",
    "    l = LABELS[i]\n",
    "    n = int(split*len(points[l]))\n",
    "    X_train+=(dX[l][0:n])\n",
    "    y_train+=(dy[l][0:n])\n",
    "    X_test+=(dX[l][n:])\n",
    "    y_test+=(dy[l][n:])"
   ]
  },
  {
   "cell_type": "code",
   "execution_count": 118,
   "metadata": {
    "colab": {
     "base_uri": "https://localhost:8080/",
     "height": 546
    },
    "id": "rN3Y5L7dj6V-",
    "outputId": "ce4a5ec0-5209-467f-9db5-e0a53028ee9b"
   },
   "outputs": [
    {
     "data": {
      "image/png": "[encoded data removed]",
      "text/plain": [
       "<Figure size 432x288 with 1 Axes>"
      ]
     },
     "metadata": {
      "needs_background": "light",
      "tags": []
     },
     "output_type": "display_data"
    },
    {
     "data": {
      "image/png": "[encoded data removed]",
      "text/plain": [
       "<Figure size 432x288 with 1 Axes>"
      ]
     },
     "metadata": {
      "needs_background": "light",
      "tags": []
     },
     "output_type": "display_data"
    },
    {
     "data": {
      "text/plain": [
       "array([0.26548673, 0.        , 0.        , 0.19026549, 0.        ,\n",
       "       0.        , 0.22566372, 0.        , 0.        , 0.31858407])"
      ]
     },
     "execution_count": 118,
     "metadata": {
      "tags": []
     },
     "output_type": "execute_result"
    }
   ],
   "source": [
    "plt.hist(y_train,density=True)\n",
    "plt.show()\n",
    "\n",
    "distr=plt.hist(y_test,density=True)\n",
    "plt.show()\n",
    "\n",
    "distr=np.array(distr[0])/np.linalg.norm(np.array(distr[0]),ord=1)\n",
    "distr"
   ]
  },
  {
   "cell_type": "code",
   "execution_count": 53,
   "metadata": {
    "colab": {
     "base_uri": "https://localhost:8080/",
     "height": 414,
     "referenced_widgets": [
      "21e639fc9f1547ccaa202d9724ea3e6a",
      "2fb5f1ac2f664eb9bc3863a1dbd132f5",
      "5a1f3cff566c4f48a60fe7fa3b78eecb",
      "f7ff2f72f50f4eed990692d731deec45",
      "18daf08f9c464fd580cf4a0223a19ed6",
      "1f84ca9b8eed4031b5835241790b2ab6",
      "f48bf19cfc45452380d525d418ae3fb4",
      "63f2038ed1dc43ed9fe135fe628133d4",
      "ad54e38982ce452394a449fb6f495293",
      "6fe5c24bfbe249abb521ab6e850f77df",
      "4ca503c88efe4c1bb828663721173bd7",
      "acd12bb9127f47cfa2df4345fd1ab15b",
      "18cafd59070a4ea98b6632e5337e8f97",
      "2118deb43e9642759bac84d7728b7c97",
      "fa918a5a7df14ce4a532c8ebc55441a9",
      "9d86eda02d80431bb3e56f62f93fcc08",
      "4e1915249c9c41c4bac0967a8318bcb2",
      "1db8b69920714f73bee90c72afb50bf4",
      "87e4b856863c4a6ba4bed5901cb9df9e",
      "526a86a4ab0e46bba02bd8349b56412d",
      "2d3f00a6a7c74439a499fffb4d818c10",
      "cdd3ca40deb249c187654dae6b61a74d",
      "d712547d5aa2410b8f822c86740cf006",
      "ce2b6ed8fff944059468ae8cfdb4af76",
      "96bc83765a5644d99d3a3eee1cc0f7c8",
      "aa137d93949349908bb98a81694bdedf",
      "11575b85de7d4e78ad1e4d5d2175b40e",
      "f0a58472f8324153a0b320e760a0c5a7",
      "e0566c4576a747afb57fa56485c1ad6f",
      "807b04e2d5d24a65a70bd3f011ef63d1",
      "030f566665034196913945e561ff3999",
      "1f3d3b3e08c1413eaea2d0df9fd8ea42"
     ]
    },
    "id": "n8XgKHaHj6V_",
    "outputId": "1af12417-6cc7-40b1-a9fa-b175bc0c9780"
   },
   "outputs": [
    {
     "name": "stderr",
     "output_type": "stream",
     "text": [
      "/usr/local/lib/python3.6/dist-packages/ipykernel_launcher.py:7: TqdmDeprecationWarning: This function will be removed in tqdm==5.0.0\n",
      "Please use `tqdm.notebook.tqdm` instead of `tqdm.tqdm_notebook`\n",
      "  import sys\n"
     ]
    },
    {
     "data": {
      "application/vnd.jupyter.widget-view+json": {
       "model_id": "21e639fc9f1547ccaa202d9724ea3e6a",
       "version_major": 2,
       "version_minor": 0
      },
      "text/plain": [
       "HBox(children=(FloatProgress(value=0.0, max=299.0), HTML(value='')))"
      ]
     },
     "metadata": {
      "tags": []
     },
     "output_type": "display_data"
    },
    {
     "name": "stdout",
     "output_type": "stream",
     "text": [
      "\n"
     ]
    },
    {
     "name": "stderr",
     "output_type": "stream",
     "text": [
      "/usr/local/lib/python3.6/dist-packages/ipykernel_launcher.py:7: TqdmDeprecationWarning: This function will be removed in tqdm==5.0.0\n",
      "Please use `tqdm.notebook.tqdm` instead of `tqdm.tqdm_notebook`\n",
      "  import sys\n"
     ]
    },
    {
     "data": {
      "application/vnd.jupyter.widget-view+json": {
       "model_id": "ad54e38982ce452394a449fb6f495293",
       "version_major": 2,
       "version_minor": 0
      },
      "text/plain": [
       "HBox(children=(FloatProgress(value=0.0, max=212.0), HTML(value='')))"
      ]
     },
     "metadata": {
      "tags": []
     },
     "output_type": "display_data"
    },
    {
     "name": "stdout",
     "output_type": "stream",
     "text": [
      "\n"
     ]
    },
    {
     "name": "stderr",
     "output_type": "stream",
     "text": [
      "/usr/local/lib/python3.6/dist-packages/ipykernel_launcher.py:7: TqdmDeprecationWarning: This function will be removed in tqdm==5.0.0\n",
      "Please use `tqdm.notebook.tqdm` instead of `tqdm.tqdm_notebook`\n",
      "  import sys\n"
     ]
    },
    {
     "data": {
      "application/vnd.jupyter.widget-view+json": {
       "model_id": "4e1915249c9c41c4bac0967a8318bcb2",
       "version_major": 2,
       "version_minor": 0
      },
      "text/plain": [
       "HBox(children=(FloatProgress(value=0.0, max=252.0), HTML(value='')))"
      ]
     },
     "metadata": {
      "tags": []
     },
     "output_type": "display_data"
    },
    {
     "name": "stdout",
     "output_type": "stream",
     "text": [
      "\n"
     ]
    },
    {
     "name": "stderr",
     "output_type": "stream",
     "text": [
      "/usr/local/lib/python3.6/dist-packages/ipykernel_launcher.py:7: TqdmDeprecationWarning: This function will be removed in tqdm==5.0.0\n",
      "Please use `tqdm.notebook.tqdm` instead of `tqdm.tqdm_notebook`\n",
      "  import sys\n"
     ]
    },
    {
     "data": {
      "application/vnd.jupyter.widget-view+json": {
       "model_id": "96bc83765a5644d99d3a3eee1cc0f7c8",
       "version_major": 2,
       "version_minor": 0
      },
      "text/plain": [
       "HBox(children=(FloatProgress(value=0.0, max=356.0), HTML(value='')))"
      ]
     },
     "metadata": {
      "tags": []
     },
     "output_type": "display_data"
    },
    {
     "name": "stdout",
     "output_type": "stream",
     "text": [
      "\n"
     ]
    }
   ],
   "source": [
    "# creating distance dictionary\n",
    "\n",
    "# takes lot of time, dont run again might take 1-2 hurs on Colab - CPU when using nlog(n), sift_dist1\n",
    "# takes lot of time, dont run again might take 4-6 hurs on Colab - CPU when using n^2, sift_dist\n",
    "\n",
    "DIST=dict()\n",
    "        \n",
    "for i in range(len(LABELS)):\n",
    "    l=LABELS[i]\n",
    "    for j in tqdm(range(len(points[l]))):\n",
    "        for k in range(i,len(LABELS)):\n",
    "            lk = LABELS[k]\n",
    "            if k > i:\n",
    "                for t in range(len(points[lk])):\n",
    "                    d = sift_dist1(points[lk][t],points[l][j])\n",
    "                    DIST[lk+str(t)+l+str(j)]=d\n",
    "                    DIST[l+str(j)+lk+str(t)]=d\n",
    "            else:\n",
    "                for t in range(j,len(points[lk])):\n",
    "                    d = sift_dist1(points[lk][t],points[l][j])\n",
    "                    DIST[lk+str(t)+l+str(j)]=d\n",
    "                    DIST[l+str(j)+lk+str(t)]=d\n",
    "                "
   ]
  },
  {
   "cell_type": "code",
   "execution_count": 108,
   "metadata": {
    "id": "_H-FMFiuR39B"
   },
   "outputs": [],
   "source": [
    "# main metric function to pass\n",
    "def myMetric(x,y):\n",
    "    try:\n",
    "        return DIST[LABELS[int(x[0])]+str(int(x[1]))+LABELS[int(y[0])]+str(int(y[1]))]\n",
    "    except:\n",
    "        return float('inf')"
   ]
  },
  {
   "cell_type": "code",
   "execution_count": 109,
   "metadata": {
    "colab": {
     "base_uri": "https://localhost:8080/"
    },
    "id": "sbDiSzpzj6V_",
    "outputId": "2bdd6f90-a955-4149-bb74-599ae8482c3a"
   },
   "outputs": [
    {
     "data": {
      "text/plain": [
       "(893, 2)"
      ]
     },
     "execution_count": 109,
     "metadata": {
      "tags": []
     },
     "output_type": "execute_result"
    }
   ],
   "source": [
    "X_train=np.array(X_train).reshape(-1,2)\n",
    "X_test=np.array(X_test).reshape(-1,2)\n",
    "X_train.shape"
   ]
  },
  {
   "cell_type": "code",
   "execution_count": 126,
   "metadata": {
    "colab": {
     "base_uri": "https://localhost:8080/"
    },
    "id": "T6lXRPlvj6WA",
    "outputId": "bb13b7b4-8824-4cb1-f391-db94f7ceb416"
   },
   "outputs": [
    {
     "data": {
      "text/plain": [
       "KNeighborsClassifier(algorithm='auto', leaf_size=30,\n",
       "                     metric=<function myMetric at 0x7f187f0df400>,\n",
       "                     metric_params=None, n_jobs=None, n_neighbors=20, p=2,\n",
       "                     weights='uniform')"
      ]
     },
     "execution_count": 126,
     "metadata": {
      "tags": []
     },
     "output_type": "execute_result"
    }
   ],
   "source": [
    "knn = KNeighborsClassifier(20,metric=myMetric)\n",
    "knn.fit(X_train, y_train)"
   ]
  },
  {
   "cell_type": "code",
   "execution_count": 127,
   "metadata": {
    "colab": {
     "base_uri": "https://localhost:8080/"
    },
    "id": "7KofLyimj6WA",
    "outputId": "487cb2b8-b0f9-4252-cb87-75d792cd1a21"
   },
   "outputs": [
    {
     "name": "stdout",
     "output_type": "stream",
     "text": [
      "The performance of the model on test data with 20 neighbours is\n",
      "              precision    recall  f1-score   support\n",
      "\n",
      "           0       0.59      0.43      0.50       239\n",
      "           1       0.55      0.53      0.54       169\n",
      "           2       0.74      0.27      0.40       201\n",
      "           3       0.46      0.79      0.58       284\n",
      "\n",
      "    accuracy                           0.53       893\n",
      "   macro avg       0.59      0.50      0.50       893\n",
      "weighted avg       0.58      0.53      0.51       893\n",
      "\n",
      "0 : cloudy\n",
      "1 : rain\n",
      "2 : shine\n",
      "3 : sunrise\n"
     ]
    }
   ],
   "source": [
    "y_pred = knn.predict(X_train)\n",
    "print(f\"The performance of the model on test data with {20} neighbours is\")\n",
    "print(classification_report(y_train,y_pred))\n",
    "for i in range(len(LABELS)):\n",
    "    print(i,\":\",LABELS[i])"
   ]
  },
  {
   "cell_type": "code",
   "execution_count": 128,
   "metadata": {
    "colab": {
     "base_uri": "https://localhost:8080/"
    },
    "id": "wTf_NsS1j6WA",
    "outputId": "0f50d693-4b80-46f4-feb0-c7bf78f58801"
   },
   "outputs": [
    {
     "name": "stdout",
     "output_type": "stream",
     "text": [
      "The performance of the model on test data with 20 neighbours is\n",
      "              precision    recall  f1-score   support\n",
      "\n",
      "           0       0.51      0.35      0.42        60\n",
      "           1       0.64      0.67      0.66        43\n",
      "           2       0.47      0.18      0.26        51\n",
      "           3       0.45      0.75      0.56        72\n",
      "\n",
      "    accuracy                           0.50       226\n",
      "   macro avg       0.52      0.49      0.47       226\n",
      "weighted avg       0.51      0.50      0.47       226\n",
      "\n",
      "0 : cloudy\n",
      "1 : rain\n",
      "2 : shine\n",
      "3 : sunrise\n"
     ]
    }
   ],
   "source": [
    "y_pred = knn.predict(X_test)\n",
    "print(f\"The performance of the model on test data with {20} neighbours is\")\n",
    "print(classification_report(y_test,y_pred))\n",
    "for i in range(len(LABELS)):\n",
    "    print(i,\":\",LABELS[i])"
   ]
  },
  {
   "cell_type": "code",
   "execution_count": 129,
   "metadata": {
    "colab": {
     "base_uri": "https://localhost:8080/"
    },
    "id": "7jOrJxeBUKYI",
    "outputId": "92719be1-1165-4366-d4e7-9014263abbcd"
   },
   "outputs": [
    {
     "name": "stdout",
     "output_type": "stream",
     "text": [
      "The accuracy of the model with 2 neighbours is 41.59%\n",
      "The accuracy of the model with 3 neighbours is 46.02%\n",
      "The accuracy of the model with 4 neighbours is 46.02%\n",
      "The accuracy of the model with 5 neighbours is 47.79%\n",
      "The accuracy of the model with 6 neighbours is 46.02%\n",
      "The accuracy of the model with 7 neighbours is 46.02%\n",
      "The accuracy of the model with 8 neighbours is 46.46%\n",
      "The accuracy of the model with 9 neighbours is 51.77%\n",
      "The accuracy of the model with 10 neighbours is 50.88%\n",
      "The accuracy of the model with 11 neighbours is 51.77%\n",
      "The accuracy of the model with 12 neighbours is 50.0%\n",
      "The accuracy of the model with 13 neighbours is 47.79%\n",
      "The accuracy of the model with 14 neighbours is 50.88%\n",
      "The accuracy of the model with 15 neighbours is 48.23%\n",
      "The accuracy of the model with 16 neighbours is 51.33%\n",
      "The accuracy of the model with 17 neighbours is 51.77%\n",
      "The accuracy of the model with 18 neighbours is 51.77%\n",
      "The accuracy of the model with 19 neighbours is 51.33%\n",
      "The accuracy of the model with 20 neighbours is 50.0%\n",
      "The accuracy of the model with 21 neighbours is 49.56%\n",
      "The accuracy of the model with 22 neighbours is 50.44%\n",
      "The accuracy of the model with 23 neighbours is 48.67%\n",
      "The accuracy of the model with 24 neighbours is 48.23%\n",
      "The accuracy of the model with 25 neighbours is 47.35%\n",
      "The accuracy of the model with 26 neighbours is 47.79%\n",
      "The accuracy of the model with 27 neighbours is 50.44%\n",
      "The accuracy of the model with 28 neighbours is 50.44%\n",
      "The accuracy of the model with 29 neighbours is 50.44%\n",
      "The accuracy of the model with 30 neighbours is 48.67%\n",
      "The accuracy of the model with 31 neighbours is 49.12%\n",
      "The accuracy of the model with 32 neighbours is 49.56%\n",
      "The accuracy of the model with 33 neighbours is 49.12%\n",
      "The accuracy of the model with 34 neighbours is 47.79%\n",
      "The accuracy of the model with 35 neighbours is 48.67%\n",
      "The accuracy of the model with 36 neighbours is 49.12%\n",
      "The accuracy of the model with 37 neighbours is 48.23%\n",
      "The accuracy of the model with 38 neighbours is 47.35%\n",
      "The accuracy of the model with 39 neighbours is 47.79%\n",
      "The accuracy of the model with 40 neighbours is 48.67%\n",
      "The accuracy of the model with 41 neighbours is 47.79%\n",
      "The accuracy of the model with 42 neighbours is 46.9%\n",
      "The accuracy of the model with 43 neighbours is 46.46%\n",
      "The accuracy of the model with 44 neighbours is 46.9%\n",
      "The accuracy of the model with 45 neighbours is 46.46%\n",
      "The accuracy of the model with 46 neighbours is 46.9%\n",
      "The accuracy of the model with 47 neighbours is 46.46%\n",
      "The accuracy of the model with 48 neighbours is 46.46%\n",
      "The accuracy of the model with 49 neighbours is 45.58%\n",
      "The accuracy of the model with 50 neighbours is 45.13%\n",
      "The accuracy of the model with 51 neighbours is 46.46%\n",
      "The accuracy of the model with 52 neighbours is 46.46%\n",
      "The accuracy of the model with 53 neighbours is 47.35%\n",
      "The accuracy of the model with 54 neighbours is 46.46%\n",
      "The accuracy of the model with 55 neighbours is 48.23%\n",
      "The accuracy of the model with 56 neighbours is 46.9%\n",
      "The accuracy of the model with 57 neighbours is 47.35%\n",
      "The accuracy of the model with 58 neighbours is 48.23%\n",
      "The accuracy of the model with 59 neighbours is 47.35%\n",
      "The accuracy of the model with 60 neighbours is 46.46%\n",
      "The accuracy of the model with 61 neighbours is 46.46%\n",
      "The accuracy of the model with 62 neighbours is 46.46%\n",
      "The accuracy of the model with 63 neighbours is 46.02%\n",
      "The accuracy of the model with 64 neighbours is 45.58%\n",
      "The accuracy of the model with 65 neighbours is 45.13%\n",
      "The accuracy of the model with 66 neighbours is 46.46%\n",
      "The accuracy of the model with 67 neighbours is 46.02%\n",
      "The accuracy of the model with 68 neighbours is 46.46%\n",
      "The accuracy of the model with 69 neighbours is 46.02%\n",
      "The accuracy of the model with 70 neighbours is 46.02%\n",
      "The accuracy of the model with 71 neighbours is 46.02%\n",
      "The accuracy of the model with 72 neighbours is 45.13%\n",
      "The accuracy of the model with 73 neighbours is 45.13%\n",
      "The accuracy of the model with 74 neighbours is 45.13%\n",
      "The accuracy of the model with 75 neighbours is 45.13%\n",
      "The accuracy of the model with 76 neighbours is 45.58%\n",
      "The accuracy of the model with 77 neighbours is 45.58%\n",
      "The accuracy of the model with 78 neighbours is 44.69%\n",
      "The accuracy of the model with 79 neighbours is 45.58%\n",
      "The accuracy of the model with 80 neighbours is 45.13%\n",
      "The accuracy of the model with 81 neighbours is 45.13%\n",
      "The accuracy of the model with 82 neighbours is 45.13%\n",
      "The accuracy of the model with 83 neighbours is 45.58%\n",
      "The accuracy of the model with 84 neighbours is 45.13%\n",
      "The accuracy of the model with 85 neighbours is 45.58%\n",
      "The accuracy of the model with 86 neighbours is 44.69%\n",
      "The accuracy of the model with 87 neighbours is 45.13%\n",
      "The accuracy of the model with 88 neighbours is 44.69%\n",
      "The accuracy of the model with 89 neighbours is 44.69%\n",
      "The accuracy of the model with 90 neighbours is 45.13%\n",
      "The accuracy of the model with 91 neighbours is 45.13%\n",
      "The accuracy of the model with 92 neighbours is 44.69%\n",
      "The accuracy of the model with 93 neighbours is 44.69%\n",
      "The accuracy of the model with 94 neighbours is 45.13%\n",
      "The accuracy of the model with 95 neighbours is 45.13%\n",
      "The accuracy of the model with 96 neighbours is 44.69%\n",
      "The accuracy of the model with 97 neighbours is 45.13%\n",
      "The accuracy of the model with 98 neighbours is 45.58%\n",
      "The accuracy of the model with 99 neighbours is 45.13%\n"
     ]
    }
   ],
   "source": [
    "acc = []\n",
    "nbr = []\n",
    "for n in range(2,100):\n",
    "    knn = KNeighborsClassifier(n,metric=myMetric)\n",
    "    knn.fit(X_train, y_train)\n",
    "    perc = (knn.score(X_test, y_test)*100).__round__(2)\n",
    "    acc.append(perc)\n",
    "    nbr.append(n)\n",
    "    print(f\"The accuracy of the model with {n} neighbours is \"+str(perc)+\"%\")"
   ]
  },
  {
   "cell_type": "code",
   "execution_count": 130,
   "metadata": {
    "colab": {
     "base_uri": "https://localhost:8080/",
     "height": 281
    },
    "id": "6zl3Mb2XU5kJ",
    "outputId": "abc06f91-2fa5-49e0-a8db-afc1d0828064"
   },
   "outputs": [
    {
     "data": {
      "image/png": "[encoded data removed]",
      "text/plain": [
       "<Figure size 432x288 with 1 Axes>"
      ]
     },
     "metadata": {
      "needs_background": "light",
      "tags": []
     },
     "output_type": "display_data"
    }
   ],
   "source": [
    "plt.plot(nbr,acc)\n",
    "plt.title(\"Accuracy w.r.t number of neighbours\")\n",
    "plt.show()"
   ]
  },
  {
   "cell_type": "markdown",
   "metadata": {
    "id": "wNwpSEZZW-Fh"
   },
   "source": [
    "## To see how will it performs wrt a random assignment we will calculate the expected accuracy of random assignment\n",
    "\n",
    "if distribution of classes is given by $p_i$ for $i=0,1,...n$ then the probability of getting it right is to get $p_i$ and also predict $p_i$ hence the expected accuracy of random assignement is \n",
    "\n",
    "$$\n",
    "Random\\ assignment\\ accuracy = \\Sigma_{i=0}^{n} p_i^2 = 25.91 \\%\n",
    "$$"
   ]
  },
  {
   "cell_type": "code",
   "execution_count": 125,
   "metadata": {
    "colab": {
     "base_uri": "https://localhost:8080/"
    },
    "id": "3u74Z6WbU5xV",
    "outputId": "9d3602d1-4cd2-4ece-a458-453e86333d84"
   },
   "outputs": [
    {
     "name": "stdout",
     "output_type": "stream",
     "text": [
      "25.91 %\n"
     ]
    }
   ],
   "source": [
    "Random_accuracy=np.sum(distr**2)\n",
    "print((Random_accuracy*100).__round__(2),\"%\")"
   ]
  },
  {
   "cell_type": "code",
   "execution_count": null,
   "metadata": {
    "id": "Pn9Dz4abYLMc"
   },
   "outputs": [],
   "source": []
  }
 ],
 "metadata": {
  "accelerator": "GPU",
  "colab": {
   "collapsed_sections": [],
   "name": "18ma20015.ipynb",
   "provenance": []
  },
  "kernelspec": {
   "display_name": "Python 3",
   "language": "python",
   "name": "python3"
  },
  "language_info": {
   "codemirror_mode": {
    "name": "ipython",
    "version": 3
   },
   "file_extension": ".py",
   "mimetype": "text/x-python",
   "name": "python",
   "nbconvert_exporter": "python",
   "pygments_lexer": "ipython3",
   "version": "3.7.7"
  },
  "widgets": {
   "application/vnd.jupyter.widget-state+json": {
    "030f566665034196913945e561ff3999": {
     "model_module": "@jupyter-widgets/controls",
     "model_name": "DescriptionStyleModel",
     "state": {
      "_model_module": "@jupyter-widgets/controls",
      "_model_module_version": "1.5.0",
      "_model_name": "DescriptionStyleModel",
      "_view_count": null,
      "_view_module": "@jupyter-widgets/base",
      "_view_module_version": "1.2.0",
      "_view_name": "StyleView",
      "description_width": ""
     }
    },
    "05daf5157da04406be0c5c1c7c24339f": {
     "model_module": "@jupyter-widgets/base",
     "model_name": "LayoutModel",
     "state": {
      "_model_module": "@jupyter-widgets/base",
      "_model_module_version": "1.2.0",
      "_model_name": "LayoutModel",
      "_view_count": null,
      "_view_module": "@jupyter-widgets/base",
      "_view_module_version": "1.2.0",
      "_view_name": "LayoutView",
      "align_content": null,
      "align_items": null,
      "align_self": null,
      "border": null,
      "bottom": null,
      "display": null,
      "flex": null,
      "flex_flow": null,
      "grid_area": null,
      "grid_auto_columns": null,
      "grid_auto_flow": null,
      "grid_auto_rows": null,
      "grid_column": null,
      "grid_gap": null,
      "grid_row": null,
      "grid_template_areas": null,
      "grid_template_columns": null,
      "grid_template_rows": null,
      "height": null,
      "justify_content": null,
      "justify_items": null,
      "left": null,
      "margin": null,
      "max_height": null,
      "max_width": null,
      "min_height": null,
      "min_width": null,
      "object_fit": null,
      "object_position": null,
      "order": null,
      "overflow": null,
      "overflow_x": null,
      "overflow_y": null,
      "padding": null,
      "right": null,
      "top": null,
      "visibility": null,
      "width": null
     }
    },
    "0a57178145a7469f9105d21df4b4b244": {
     "model_module": "@jupyter-widgets/base",
     "model_name": "LayoutModel",
     "state": {
      "_model_module": "@jupyter-widgets/base",
      "_model_module_version": "1.2.0",
      "_model_name": "LayoutModel",
      "_view_count": null,
      "_view_module": "@jupyter-widgets/base",
      "_view_module_version": "1.2.0",
      "_view_name": "LayoutView",
      "align_content": null,
      "align_items": null,
      "align_self": null,
      "border": null,
      "bottom": null,
      "display": null,
      "flex": null,
      "flex_flow": null,
      "grid_area": null,
      "grid_auto_columns": null,
      "grid_auto_flow": null,
      "grid_auto_rows": null,
      "grid_column": null,
      "grid_gap": null,
      "grid_row": null,
      "grid_template_areas": null,
      "grid_template_columns": null,
      "grid_template_rows": null,
      "height": null,
      "justify_content": null,
      "justify_items": null,
      "left": null,
      "margin": null,
      "max_height": null,
      "max_width": null,
      "min_height": null,
      "min_width": null,
      "object_fit": null,
      "object_position": null,
      "order": null,
      "overflow": null,
      "overflow_x": null,
      "overflow_y": null,
      "padding": null,
      "right": null,
      "top": null,
      "visibility": null,
      "width": null
     }
    },
    "10cf5396a953434691ff4121ef85c0da": {
     "model_module": "@jupyter-widgets/base",
     "model_name": "LayoutModel",
     "state": {
      "_model_module": "@jupyter-widgets/base",
      "_model_module_version": "1.2.0",
      "_model_name": "LayoutModel",
      "_view_count": null,
      "_view_module": "@jupyter-widgets/base",
      "_view_module_version": "1.2.0",
      "_view_name": "LayoutView",
      "align_content": null,
      "align_items": null,
      "align_self": null,
      "border": null,
      "bottom": null,
      "display": null,
      "flex": null,
      "flex_flow": null,
      "grid_area": null,
      "grid_auto_columns": null,
      "grid_auto_flow": null,
      "grid_auto_rows": null,
      "grid_column": null,
      "grid_gap": null,
      "grid_row": null,
      "grid_template_areas": null,
      "grid_template_columns": null,
      "grid_template_rows": null,
      "height": null,
      "justify_content": null,
      "justify_items": null,
      "left": null,
      "margin": null,
      "max_height": null,
      "max_width": null,
      "min_height": null,
      "min_width": null,
      "object_fit": null,
      "object_position": null,
      "order": null,
      "overflow": null,
      "overflow_x": null,
      "overflow_y": null,
      "padding": null,
      "right": null,
      "top": null,
      "visibility": null,
      "width": null
     }
    },
    "11575b85de7d4e78ad1e4d5d2175b40e": {
     "model_module": "@jupyter-widgets/controls",
     "model_name": "FloatProgressModel",
     "state": {
      "_dom_classes": [],
      "_model_module": "@jupyter-widgets/controls",
      "_model_module_version": "1.5.0",
      "_model_name": "FloatProgressModel",
      "_view_count": null,
      "_view_module": "@jupyter-widgets/controls",
      "_view_module_version": "1.5.0",
      "_view_name": "ProgressView",
      "bar_style": "success",
      "description": "100%",
      "description_tooltip": null,
      "layout": "IPY_MODEL_807b04e2d5d24a65a70bd3f011ef63d1",
      "max": 356,
      "min": 0,
      "orientation": "horizontal",
      "style": "IPY_MODEL_e0566c4576a747afb57fa56485c1ad6f",
      "value": 356
     }
    },
    "1796e752fb464daabf956cb6096ef18a": {
     "model_module": "@jupyter-widgets/controls",
     "model_name": "FloatProgressModel",
     "state": {
      "_dom_classes": [],
      "_model_module": "@jupyter-widgets/controls",
      "_model_module_version": "1.5.0",
      "_model_name": "FloatProgressModel",
      "_view_count": null,
      "_view_module": "@jupyter-widgets/controls",
      "_view_module_version": "1.5.0",
      "_view_name": "ProgressView",
      "bar_style": "success",
      "description": "100%",
      "description_tooltip": null,
      "layout": "IPY_MODEL_05daf5157da04406be0c5c1c7c24339f",
      "max": 215,
      "min": 0,
      "orientation": "horizontal",
      "style": "IPY_MODEL_374f2d5346f349058cb8ee8b5a5bac26",
      "value": 215
     }
    },
    "18cafd59070a4ea98b6632e5337e8f97": {
     "model_module": "@jupyter-widgets/controls",
     "model_name": "ProgressStyleModel",
     "state": {
      "_model_module": "@jupyter-widgets/controls",
      "_model_module_version": "1.5.0",
      "_model_name": "ProgressStyleModel",
      "_view_count": null,
      "_view_module": "@jupyter-widgets/base",
      "_view_module_version": "1.2.0",
      "_view_name": "StyleView",
      "bar_color": null,
      "description_width": "initial"
     }
    },
    "18daf08f9c464fd580cf4a0223a19ed6": {
     "model_module": "@jupyter-widgets/controls",
     "model_name": "ProgressStyleModel",
     "state": {
      "_model_module": "@jupyter-widgets/controls",
      "_model_module_version": "1.5.0",
      "_model_name": "ProgressStyleModel",
      "_view_count": null,
      "_view_module": "@jupyter-widgets/base",
      "_view_module_version": "1.2.0",
      "_view_name": "StyleView",
      "bar_color": null,
      "description_width": "initial"
     }
    },
    "1db8b69920714f73bee90c72afb50bf4": {
     "model_module": "@jupyter-widgets/base",
     "model_name": "LayoutModel",
     "state": {
      "_model_module": "@jupyter-widgets/base",
      "_model_module_version": "1.2.0",
      "_model_name": "LayoutModel",
      "_view_count": null,
      "_view_module": "@jupyter-widgets/base",
      "_view_module_version": "1.2.0",
      "_view_name": "LayoutView",
      "align_content": null,
      "align_items": null,
      "align_self": null,
      "border": null,
      "bottom": null,
      "display": null,
      "flex": null,
      "flex_flow": null,
      "grid_area": null,
      "grid_auto_columns": null,
      "grid_auto_flow": null,
      "grid_auto_rows": null,
      "grid_column": null,
      "grid_gap": null,
      "grid_row": null,
      "grid_template_areas": null,
      "grid_template_columns": null,
      "grid_template_rows": null,
      "height": null,
      "justify_content": null,
      "justify_items": null,
      "left": null,
      "margin": null,
      "max_height": null,
      "max_width": null,
      "min_height": null,
      "min_width": null,
      "object_fit": null,
      "object_position": null,
      "order": null,
      "overflow": null,
      "overflow_x": null,
      "overflow_y": null,
      "padding": null,
      "right": null,
      "top": null,
      "visibility": null,
      "width": null
     }
    },
    "1f3d3b3e08c1413eaea2d0df9fd8ea42": {
     "model_module": "@jupyter-widgets/base",
     "model_name": "LayoutModel",
     "state": {
      "_model_module": "@jupyter-widgets/base",
      "_model_module_version": "1.2.0",
      "_model_name": "LayoutModel",
      "_view_count": null,
      "_view_module": "@jupyter-widgets/base",
      "_view_module_version": "1.2.0",
      "_view_name": "LayoutView",
      "align_content": null,
      "align_items": null,
      "align_self": null,
      "border": null,
      "bottom": null,
      "display": null,
      "flex": null,
      "flex_flow": null,
      "grid_area": null,
      "grid_auto_columns": null,
      "grid_auto_flow": null,
      "grid_auto_rows": null,
      "grid_column": null,
      "grid_gap": null,
      "grid_row": null,
      "grid_template_areas": null,
      "grid_template_columns": null,
      "grid_template_rows": null,
      "height": null,
      "justify_content": null,
      "justify_items": null,
      "left": null,
      "margin": null,
      "max_height": null,
      "max_width": null,
      "min_height": null,
      "min_width": null,
      "object_fit": null,
      "object_position": null,
      "order": null,
      "overflow": null,
      "overflow_x": null,
      "overflow_y": null,
      "padding": null,
      "right": null,
      "top": null,
      "visibility": null,
      "width": null
     }
    },
    "1f84ca9b8eed4031b5835241790b2ab6": {
     "model_module": "@jupyter-widgets/base",
     "model_name": "LayoutModel",
     "state": {
      "_model_module": "@jupyter-widgets/base",
      "_model_module_version": "1.2.0",
      "_model_name": "LayoutModel",
      "_view_count": null,
      "_view_module": "@jupyter-widgets/base",
      "_view_module_version": "1.2.0",
      "_view_name": "LayoutView",
      "align_content": null,
      "align_items": null,
      "align_self": null,
      "border": null,
      "bottom": null,
      "display": null,
      "flex": null,
      "flex_flow": null,
      "grid_area": null,
      "grid_auto_columns": null,
      "grid_auto_flow": null,
      "grid_auto_rows": null,
      "grid_column": null,
      "grid_gap": null,
      "grid_row": null,
      "grid_template_areas": null,
      "grid_template_columns": null,
      "grid_template_rows": null,
      "height": null,
      "justify_content": null,
      "justify_items": null,
      "left": null,
      "margin": null,
      "max_height": null,
      "max_width": null,
      "min_height": null,
      "min_width": null,
      "object_fit": null,
      "object_position": null,
      "order": null,
      "overflow": null,
      "overflow_x": null,
      "overflow_y": null,
      "padding": null,
      "right": null,
      "top": null,
      "visibility": null,
      "width": null
     }
    },
    "2118deb43e9642759bac84d7728b7c97": {
     "model_module": "@jupyter-widgets/base",
     "model_name": "LayoutModel",
     "state": {
      "_model_module": "@jupyter-widgets/base",
      "_model_module_version": "1.2.0",
      "_model_name": "LayoutModel",
      "_view_count": null,
      "_view_module": "@jupyter-widgets/base",
      "_view_module_version": "1.2.0",
      "_view_name": "LayoutView",
      "align_content": null,
      "align_items": null,
      "align_self": null,
      "border": null,
      "bottom": null,
      "display": null,
      "flex": null,
      "flex_flow": null,
      "grid_area": null,
      "grid_auto_columns": null,
      "grid_auto_flow": null,
      "grid_auto_rows": null,
      "grid_column": null,
      "grid_gap": null,
      "grid_row": null,
      "grid_template_areas": null,
      "grid_template_columns": null,
      "grid_template_rows": null,
      "height": null,
      "justify_content": null,
      "justify_items": null,
      "left": null,
      "margin": null,
      "max_height": null,
      "max_width": null,
      "min_height": null,
      "min_width": null,
      "object_fit": null,
      "object_position": null,
      "order": null,
      "overflow": null,
      "overflow_x": null,
      "overflow_y": null,
      "padding": null,
      "right": null,
      "top": null,
      "visibility": null,
      "width": null
     }
    },
    "2148171c350c4b5f9930b0baaef0a837": {
     "model_module": "@jupyter-widgets/base",
     "model_name": "LayoutModel",
     "state": {
      "_model_module": "@jupyter-widgets/base",
      "_model_module_version": "1.2.0",
      "_model_name": "LayoutModel",
      "_view_count": null,
      "_view_module": "@jupyter-widgets/base",
      "_view_module_version": "1.2.0",
      "_view_name": "LayoutView",
      "align_content": null,
      "align_items": null,
      "align_self": null,
      "border": null,
      "bottom": null,
      "display": null,
      "flex": null,
      "flex_flow": null,
      "grid_area": null,
      "grid_auto_columns": null,
      "grid_auto_flow": null,
      "grid_auto_rows": null,
      "grid_column": null,
      "grid_gap": null,
      "grid_row": null,
      "grid_template_areas": null,
      "grid_template_columns": null,
      "grid_template_rows": null,
      "height": null,
      "justify_content": null,
      "justify_items": null,
      "left": null,
      "margin": null,
      "max_height": null,
      "max_width": null,
      "min_height": null,
      "min_width": null,
      "object_fit": null,
      "object_position": null,
      "order": null,
      "overflow": null,
      "overflow_x": null,
      "overflow_y": null,
      "padding": null,
      "right": null,
      "top": null,
      "visibility": null,
      "width": null
     }
    },
    "21898685c9a34f7d95cdd1d02d2126d6": {
     "model_module": "@jupyter-widgets/base",
     "model_name": "LayoutModel",
     "state": {
      "_model_module": "@jupyter-widgets/base",
      "_model_module_version": "1.2.0",
      "_model_name": "LayoutModel",
      "_view_count": null,
      "_view_module": "@jupyter-widgets/base",
      "_view_module_version": "1.2.0",
      "_view_name": "LayoutView",
      "align_content": null,
      "align_items": null,
      "align_self": null,
      "border": null,
      "bottom": null,
      "display": null,
      "flex": null,
      "flex_flow": null,
      "grid_area": null,
      "grid_auto_columns": null,
      "grid_auto_flow": null,
      "grid_auto_rows": null,
      "grid_column": null,
      "grid_gap": null,
      "grid_row": null,
      "grid_template_areas": null,
      "grid_template_columns": null,
      "grid_template_rows": null,
      "height": null,
      "justify_content": null,
      "justify_items": null,
      "left": null,
      "margin": null,
      "max_height": null,
      "max_width": null,
      "min_height": null,
      "min_width": null,
      "object_fit": null,
      "object_position": null,
      "order": null,
      "overflow": null,
      "overflow_x": null,
      "overflow_y": null,
      "padding": null,
      "right": null,
      "top": null,
      "visibility": null,
      "width": null
     }
    },
    "21e639fc9f1547ccaa202d9724ea3e6a": {
     "model_module": "@jupyter-widgets/controls",
     "model_name": "HBoxModel",
     "state": {
      "_dom_classes": [],
      "_model_module": "@jupyter-widgets/controls",
      "_model_module_version": "1.5.0",
      "_model_name": "HBoxModel",
      "_view_count": null,
      "_view_module": "@jupyter-widgets/controls",
      "_view_module_version": "1.5.0",
      "_view_name": "HBoxView",
      "box_style": "",
      "children": [
       "IPY_MODEL_5a1f3cff566c4f48a60fe7fa3b78eecb",
       "IPY_MODEL_f7ff2f72f50f4eed990692d731deec45"
      ],
      "layout": "IPY_MODEL_2fb5f1ac2f664eb9bc3863a1dbd132f5"
     }
    },
    "2bec46b3ac4f4f4989e25f4a588fd544": {
     "model_module": "@jupyter-widgets/controls",
     "model_name": "DescriptionStyleModel",
     "state": {
      "_model_module": "@jupyter-widgets/controls",
      "_model_module_version": "1.5.0",
      "_model_name": "DescriptionStyleModel",
      "_view_count": null,
      "_view_module": "@jupyter-widgets/base",
      "_view_module_version": "1.2.0",
      "_view_name": "StyleView",
      "description_width": ""
     }
    },
    "2c4baa69199643f68f683938e140062f": {
     "model_module": "@jupyter-widgets/controls",
     "model_name": "DescriptionStyleModel",
     "state": {
      "_model_module": "@jupyter-widgets/controls",
      "_model_module_version": "1.5.0",
      "_model_name": "DescriptionStyleModel",
      "_view_count": null,
      "_view_module": "@jupyter-widgets/base",
      "_view_module_version": "1.2.0",
      "_view_name": "StyleView",
      "description_width": ""
     }
    },
    "2d3f00a6a7c74439a499fffb4d818c10": {
     "model_module": "@jupyter-widgets/controls",
     "model_name": "ProgressStyleModel",
     "state": {
      "_model_module": "@jupyter-widgets/controls",
      "_model_module_version": "1.5.0",
      "_model_name": "ProgressStyleModel",
      "_view_count": null,
      "_view_module": "@jupyter-widgets/base",
      "_view_module_version": "1.2.0",
      "_view_name": "StyleView",
      "bar_color": null,
      "description_width": "initial"
     }
    },
    "2fb5f1ac2f664eb9bc3863a1dbd132f5": {
     "model_module": "@jupyter-widgets/base",
     "model_name": "LayoutModel",
     "state": {
      "_model_module": "@jupyter-widgets/base",
      "_model_module_version": "1.2.0",
      "_model_name": "LayoutModel",
      "_view_count": null,
      "_view_module": "@jupyter-widgets/base",
      "_view_module_version": "1.2.0",
      "_view_name": "LayoutView",
      "align_content": null,
      "align_items": null,
      "align_self": null,
      "border": null,
      "bottom": null,
      "display": null,
      "flex": null,
      "flex_flow": null,
      "grid_area": null,
      "grid_auto_columns": null,
      "grid_auto_flow": null,
      "grid_auto_rows": null,
      "grid_column": null,
      "grid_gap": null,
      "grid_row": null,
      "grid_template_areas": null,
      "grid_template_columns": null,
      "grid_template_rows": null,
      "height": null,
      "justify_content": null,
      "justify_items": null,
      "left": null,
      "margin": null,
      "max_height": null,
      "max_width": null,
      "min_height": null,
      "min_width": null,
      "object_fit": null,
      "object_position": null,
      "order": null,
      "overflow": null,
      "overflow_x": null,
      "overflow_y": null,
      "padding": null,
      "right": null,
      "top": null,
      "visibility": null,
      "width": null
     }
    },
    "374f2d5346f349058cb8ee8b5a5bac26": {
     "model_module": "@jupyter-widgets/controls",
     "model_name": "ProgressStyleModel",
     "state": {
      "_model_module": "@jupyter-widgets/controls",
      "_model_module_version": "1.5.0",
      "_model_name": "ProgressStyleModel",
      "_view_count": null,
      "_view_module": "@jupyter-widgets/base",
      "_view_module_version": "1.2.0",
      "_view_name": "StyleView",
      "bar_color": null,
      "description_width": "initial"
     }
    },
    "3b7cf677668c437d88f09c8fe4cefcce": {
     "model_module": "@jupyter-widgets/controls",
     "model_name": "HBoxModel",
     "state": {
      "_dom_classes": [],
      "_model_module": "@jupyter-widgets/controls",
      "_model_module_version": "1.5.0",
      "_model_name": "HBoxModel",
      "_view_count": null,
      "_view_module": "@jupyter-widgets/controls",
      "_view_module_version": "1.5.0",
      "_view_name": "HBoxView",
      "box_style": "",
      "children": [
       "IPY_MODEL_c4180c89e0be4734ada7068d6d42af90",
       "IPY_MODEL_d599df437b1d4310b1f3b39781cc217e"
      ],
      "layout": "IPY_MODEL_a1e39caed62e44f9b4d2cfbcbfb8296a"
     }
    },
    "3ec41c6d0b574ec18cb673c21c781260": {
     "model_module": "@jupyter-widgets/controls",
     "model_name": "ProgressStyleModel",
     "state": {
      "_model_module": "@jupyter-widgets/controls",
      "_model_module_version": "1.5.0",
      "_model_name": "ProgressStyleModel",
      "_view_count": null,
      "_view_module": "@jupyter-widgets/base",
      "_view_module_version": "1.2.0",
      "_view_name": "StyleView",
      "bar_color": null,
      "description_width": "initial"
     }
    },
    "45af5589a67d4cd387c3c58661486a87": {
     "model_module": "@jupyter-widgets/controls",
     "model_name": "ProgressStyleModel",
     "state": {
      "_model_module": "@jupyter-widgets/controls",
      "_model_module_version": "1.5.0",
      "_model_name": "ProgressStyleModel",
      "_view_count": null,
      "_view_module": "@jupyter-widgets/base",
      "_view_module_version": "1.2.0",
      "_view_name": "StyleView",
      "bar_color": null,
      "description_width": "initial"
     }
    },
    "4ca503c88efe4c1bb828663721173bd7": {
     "model_module": "@jupyter-widgets/controls",
     "model_name": "FloatProgressModel",
     "state": {
      "_dom_classes": [],
      "_model_module": "@jupyter-widgets/controls",
      "_model_module_version": "1.5.0",
      "_model_name": "FloatProgressModel",
      "_view_count": null,
      "_view_module": "@jupyter-widgets/controls",
      "_view_module_version": "1.5.0",
      "_view_name": "ProgressView",
      "bar_style": "success",
      "description": "100%",
      "description_tooltip": null,
      "layout": "IPY_MODEL_2118deb43e9642759bac84d7728b7c97",
      "max": 212,
      "min": 0,
      "orientation": "horizontal",
      "style": "IPY_MODEL_18cafd59070a4ea98b6632e5337e8f97",
      "value": 212
     }
    },
    "4e1915249c9c41c4bac0967a8318bcb2": {
     "model_module": "@jupyter-widgets/controls",
     "model_name": "HBoxModel",
     "state": {
      "_dom_classes": [],
      "_model_module": "@jupyter-widgets/controls",
      "_model_module_version": "1.5.0",
      "_model_name": "HBoxModel",
      "_view_count": null,
      "_view_module": "@jupyter-widgets/controls",
      "_view_module_version": "1.5.0",
      "_view_name": "HBoxView",
      "box_style": "",
      "children": [
       "IPY_MODEL_87e4b856863c4a6ba4bed5901cb9df9e",
       "IPY_MODEL_526a86a4ab0e46bba02bd8349b56412d"
      ],
      "layout": "IPY_MODEL_1db8b69920714f73bee90c72afb50bf4"
     }
    },
    "526a86a4ab0e46bba02bd8349b56412d": {
     "model_module": "@jupyter-widgets/controls",
     "model_name": "HTMLModel",
     "state": {
      "_dom_classes": [],
      "_model_module": "@jupyter-widgets/controls",
      "_model_module_version": "1.5.0",
      "_model_name": "HTMLModel",
      "_view_count": null,
      "_view_module": "@jupyter-widgets/controls",
      "_view_module_version": "1.5.0",
      "_view_name": "HTMLView",
      "description": "",
      "description_tooltip": null,
      "layout": "IPY_MODEL_ce2b6ed8fff944059468ae8cfdb4af76",
      "placeholder": "​",
      "style": "IPY_MODEL_d712547d5aa2410b8f822c86740cf006",
      "value": " 252/252 [21:28&lt;00:00,  5.11s/it]"
     }
    },
    "5a1f3cff566c4f48a60fe7fa3b78eecb": {
     "model_module": "@jupyter-widgets/controls",
     "model_name": "FloatProgressModel",
     "state": {
      "_dom_classes": [],
      "_model_module": "@jupyter-widgets/controls",
      "_model_module_version": "1.5.0",
      "_model_name": "FloatProgressModel",
      "_view_count": null,
      "_view_module": "@jupyter-widgets/controls",
      "_view_module_version": "1.5.0",
      "_view_name": "ProgressView",
      "bar_style": "success",
      "description": "100%",
      "description_tooltip": null,
      "layout": "IPY_MODEL_1f84ca9b8eed4031b5835241790b2ab6",
      "max": 299,
      "min": 0,
      "orientation": "horizontal",
      "style": "IPY_MODEL_18daf08f9c464fd580cf4a0223a19ed6",
      "value": 299
     }
    },
    "63f2038ed1dc43ed9fe135fe628133d4": {
     "model_module": "@jupyter-widgets/base",
     "model_name": "LayoutModel",
     "state": {
      "_model_module": "@jupyter-widgets/base",
      "_model_module_version": "1.2.0",
      "_model_name": "LayoutModel",
      "_view_count": null,
      "_view_module": "@jupyter-widgets/base",
      "_view_module_version": "1.2.0",
      "_view_name": "LayoutView",
      "align_content": null,
      "align_items": null,
      "align_self": null,
      "border": null,
      "bottom": null,
      "display": null,
      "flex": null,
      "flex_flow": null,
      "grid_area": null,
      "grid_auto_columns": null,
      "grid_auto_flow": null,
      "grid_auto_rows": null,
      "grid_column": null,
      "grid_gap": null,
      "grid_row": null,
      "grid_template_areas": null,
      "grid_template_columns": null,
      "grid_template_rows": null,
      "height": null,
      "justify_content": null,
      "justify_items": null,
      "left": null,
      "margin": null,
      "max_height": null,
      "max_width": null,
      "min_height": null,
      "min_width": null,
      "object_fit": null,
      "object_position": null,
      "order": null,
      "overflow": null,
      "overflow_x": null,
      "overflow_y": null,
      "padding": null,
      "right": null,
      "top": null,
      "visibility": null,
      "width": null
     }
    },
    "66cfb884e7d349fe9a660b2bd35622b0": {
     "model_module": "@jupyter-widgets/controls",
     "model_name": "FloatProgressModel",
     "state": {
      "_dom_classes": [],
      "_model_module": "@jupyter-widgets/controls",
      "_model_module_version": "1.5.0",
      "_model_name": "FloatProgressModel",
      "_view_count": null,
      "_view_module": "@jupyter-widgets/controls",
      "_view_module_version": "1.5.0",
      "_view_name": "ProgressView",
      "bar_style": "success",
      "description": "100%",
      "description_tooltip": null,
      "layout": "IPY_MODEL_b5ee9fe4da8c4aecaa567f205ce252fa",
      "max": 253,
      "min": 0,
      "orientation": "horizontal",
      "style": "IPY_MODEL_3ec41c6d0b574ec18cb673c21c781260",
      "value": 253
     }
    },
    "6f25f5ac977a44a68126e64d0a30302a": {
     "model_module": "@jupyter-widgets/base",
     "model_name": "LayoutModel",
     "state": {
      "_model_module": "@jupyter-widgets/base",
      "_model_module_version": "1.2.0",
      "_model_name": "LayoutModel",
      "_view_count": null,
      "_view_module": "@jupyter-widgets/base",
      "_view_module_version": "1.2.0",
      "_view_name": "LayoutView",
      "align_content": null,
      "align_items": null,
      "align_self": null,
      "border": null,
      "bottom": null,
      "display": null,
      "flex": null,
      "flex_flow": null,
      "grid_area": null,
      "grid_auto_columns": null,
      "grid_auto_flow": null,
      "grid_auto_rows": null,
      "grid_column": null,
      "grid_gap": null,
      "grid_row": null,
      "grid_template_areas": null,
      "grid_template_columns": null,
      "grid_template_rows": null,
      "height": null,
      "justify_content": null,
      "justify_items": null,
      "left": null,
      "margin": null,
      "max_height": null,
      "max_width": null,
      "min_height": null,
      "min_width": null,
      "object_fit": null,
      "object_position": null,
      "order": null,
      "overflow": null,
      "overflow_x": null,
      "overflow_y": null,
      "padding": null,
      "right": null,
      "top": null,
      "visibility": null,
      "width": null
     }
    },
    "6fe5c24bfbe249abb521ab6e850f77df": {
     "model_module": "@jupyter-widgets/base",
     "model_name": "LayoutModel",
     "state": {
      "_model_module": "@jupyter-widgets/base",
      "_model_module_version": "1.2.0",
      "_model_name": "LayoutModel",
      "_view_count": null,
      "_view_module": "@jupyter-widgets/base",
      "_view_module_version": "1.2.0",
      "_view_name": "LayoutView",
      "align_content": null,
      "align_items": null,
      "align_self": null,
      "border": null,
      "bottom": null,
      "display": null,
      "flex": null,
      "flex_flow": null,
      "grid_area": null,
      "grid_auto_columns": null,
      "grid_auto_flow": null,
      "grid_auto_rows": null,
      "grid_column": null,
      "grid_gap": null,
      "grid_row": null,
      "grid_template_areas": null,
      "grid_template_columns": null,
      "grid_template_rows": null,
      "height": null,
      "justify_content": null,
      "justify_items": null,
      "left": null,
      "margin": null,
      "max_height": null,
      "max_width": null,
      "min_height": null,
      "min_width": null,
      "object_fit": null,
      "object_position": null,
      "order": null,
      "overflow": null,
      "overflow_x": null,
      "overflow_y": null,
      "padding": null,
      "right": null,
      "top": null,
      "visibility": null,
      "width": null
     }
    },
    "73e748c526e04923b10812ebbffab56d": {
     "model_module": "@jupyter-widgets/base",
     "model_name": "LayoutModel",
     "state": {
      "_model_module": "@jupyter-widgets/base",
      "_model_module_version": "1.2.0",
      "_model_name": "LayoutModel",
      "_view_count": null,
      "_view_module": "@jupyter-widgets/base",
      "_view_module_version": "1.2.0",
      "_view_name": "LayoutView",
      "align_content": null,
      "align_items": null,
      "align_self": null,
      "border": null,
      "bottom": null,
      "display": null,
      "flex": null,
      "flex_flow": null,
      "grid_area": null,
      "grid_auto_columns": null,
      "grid_auto_flow": null,
      "grid_auto_rows": null,
      "grid_column": null,
      "grid_gap": null,
      "grid_row": null,
      "grid_template_areas": null,
      "grid_template_columns": null,
      "grid_template_rows": null,
      "height": null,
      "justify_content": null,
      "justify_items": null,
      "left": null,
      "margin": null,
      "max_height": null,
      "max_width": null,
      "min_height": null,
      "min_width": null,
      "object_fit": null,
      "object_position": null,
      "order": null,
      "overflow": null,
      "overflow_x": null,
      "overflow_y": null,
      "padding": null,
      "right": null,
      "top": null,
      "visibility": null,
      "width": null
     }
    },
    "807b04e2d5d24a65a70bd3f011ef63d1": {
     "model_module": "@jupyter-widgets/base",
     "model_name": "LayoutModel",
     "state": {
      "_model_module": "@jupyter-widgets/base",
      "_model_module_version": "1.2.0",
      "_model_name": "LayoutModel",
      "_view_count": null,
      "_view_module": "@jupyter-widgets/base",
      "_view_module_version": "1.2.0",
      "_view_name": "LayoutView",
      "align_content": null,
      "align_items": null,
      "align_self": null,
      "border": null,
      "bottom": null,
      "display": null,
      "flex": null,
      "flex_flow": null,
      "grid_area": null,
      "grid_auto_columns": null,
      "grid_auto_flow": null,
      "grid_auto_rows": null,
      "grid_column": null,
      "grid_gap": null,
      "grid_row": null,
      "grid_template_areas": null,
      "grid_template_columns": null,
      "grid_template_rows": null,
      "height": null,
      "justify_content": null,
      "justify_items": null,
      "left": null,
      "margin": null,
      "max_height": null,
      "max_width": null,
      "min_height": null,
      "min_width": null,
      "object_fit": null,
      "object_position": null,
      "order": null,
      "overflow": null,
      "overflow_x": null,
      "overflow_y": null,
      "padding": null,
      "right": null,
      "top": null,
      "visibility": null,
      "width": null
     }
    },
    "866f0230120d4c8f894960ac329761dc": {
     "model_module": "@jupyter-widgets/controls",
     "model_name": "HTMLModel",
     "state": {
      "_dom_classes": [],
      "_model_module": "@jupyter-widgets/controls",
      "_model_module_version": "1.5.0",
      "_model_name": "HTMLModel",
      "_view_count": null,
      "_view_module": "@jupyter-widgets/controls",
      "_view_module_version": "1.5.0",
      "_view_name": "HTMLView",
      "description": "",
      "description_tooltip": null,
      "layout": "IPY_MODEL_e84931b691c049d98229088f031cd4f1",
      "placeholder": "​",
      "style": "IPY_MODEL_9e9cd589ae89436783d7a81a979a32ca",
      "value": " 253/253 [01:05&lt;00:00,  3.87it/s]"
     }
    },
    "87e4b856863c4a6ba4bed5901cb9df9e": {
     "model_module": "@jupyter-widgets/controls",
     "model_name": "FloatProgressModel",
     "state": {
      "_dom_classes": [],
      "_model_module": "@jupyter-widgets/controls",
      "_model_module_version": "1.5.0",
      "_model_name": "FloatProgressModel",
      "_view_count": null,
      "_view_module": "@jupyter-widgets/controls",
      "_view_module_version": "1.5.0",
      "_view_name": "ProgressView",
      "bar_style": "success",
      "description": "100%",
      "description_tooltip": null,
      "layout": "IPY_MODEL_cdd3ca40deb249c187654dae6b61a74d",
      "max": 252,
      "min": 0,
      "orientation": "horizontal",
      "style": "IPY_MODEL_2d3f00a6a7c74439a499fffb4d818c10",
      "value": 252
     }
    },
    "8e54736217ce44e0aa71f95d02a86caf": {
     "model_module": "@jupyter-widgets/controls",
     "model_name": "HTMLModel",
     "state": {
      "_dom_classes": [],
      "_model_module": "@jupyter-widgets/controls",
      "_model_module_version": "1.5.0",
      "_model_name": "HTMLModel",
      "_view_count": null,
      "_view_module": "@jupyter-widgets/controls",
      "_view_module_version": "1.5.0",
      "_view_name": "HTMLView",
      "description": "",
      "description_tooltip": null,
      "layout": "IPY_MODEL_c192c6facbe64b67bbbe160d3206727a",
      "placeholder": "​",
      "style": "IPY_MODEL_2bec46b3ac4f4f4989e25f4a588fd544",
      "value": " 215/215 [01:33&lt;00:00,  2.30it/s]"
     }
    },
    "956cb9ebe48040238647626b0132ae1e": {
     "model_module": "@jupyter-widgets/controls",
     "model_name": "HTMLModel",
     "state": {
      "_dom_classes": [],
      "_model_module": "@jupyter-widgets/controls",
      "_model_module_version": "1.5.0",
      "_model_name": "HTMLModel",
      "_view_count": null,
      "_view_module": "@jupyter-widgets/controls",
      "_view_module_version": "1.5.0",
      "_view_name": "HTMLView",
      "description": "",
      "description_tooltip": null,
      "layout": "IPY_MODEL_c141c3dd89c1408987a78ceef3fe4e0d",
      "placeholder": "​",
      "style": "IPY_MODEL_2c4baa69199643f68f683938e140062f",
      "value": " 357/357 [00:49&lt;00:00,  7.20it/s]"
     }
    },
    "96bc83765a5644d99d3a3eee1cc0f7c8": {
     "model_module": "@jupyter-widgets/controls",
     "model_name": "HBoxModel",
     "state": {
      "_dom_classes": [],
      "_model_module": "@jupyter-widgets/controls",
      "_model_module_version": "1.5.0",
      "_model_name": "HBoxModel",
      "_view_count": null,
      "_view_module": "@jupyter-widgets/controls",
      "_view_module_version": "1.5.0",
      "_view_name": "HBoxView",
      "box_style": "",
      "children": [
       "IPY_MODEL_11575b85de7d4e78ad1e4d5d2175b40e",
       "IPY_MODEL_f0a58472f8324153a0b320e760a0c5a7"
      ],
      "layout": "IPY_MODEL_aa137d93949349908bb98a81694bdedf"
     }
    },
    "9d86eda02d80431bb3e56f62f93fcc08": {
     "model_module": "@jupyter-widgets/base",
     "model_name": "LayoutModel",
     "state": {
      "_model_module": "@jupyter-widgets/base",
      "_model_module_version": "1.2.0",
      "_model_name": "LayoutModel",
      "_view_count": null,
      "_view_module": "@jupyter-widgets/base",
      "_view_module_version": "1.2.0",
      "_view_name": "LayoutView",
      "align_content": null,
      "align_items": null,
      "align_self": null,
      "border": null,
      "bottom": null,
      "display": null,
      "flex": null,
      "flex_flow": null,
      "grid_area": null,
      "grid_auto_columns": null,
      "grid_auto_flow": null,
      "grid_auto_rows": null,
      "grid_column": null,
      "grid_gap": null,
      "grid_row": null,
      "grid_template_areas": null,
      "grid_template_columns": null,
      "grid_template_rows": null,
      "height": null,
      "justify_content": null,
      "justify_items": null,
      "left": null,
      "margin": null,
      "max_height": null,
      "max_width": null,
      "min_height": null,
      "min_width": null,
      "object_fit": null,
      "object_position": null,
      "order": null,
      "overflow": null,
      "overflow_x": null,
      "overflow_y": null,
      "padding": null,
      "right": null,
      "top": null,
      "visibility": null,
      "width": null
     }
    },
    "9e9cd589ae89436783d7a81a979a32ca": {
     "model_module": "@jupyter-widgets/controls",
     "model_name": "DescriptionStyleModel",
     "state": {
      "_model_module": "@jupyter-widgets/controls",
      "_model_module_version": "1.5.0",
      "_model_name": "DescriptionStyleModel",
      "_view_count": null,
      "_view_module": "@jupyter-widgets/base",
      "_view_module_version": "1.2.0",
      "_view_name": "StyleView",
      "description_width": ""
     }
    },
    "a1e39caed62e44f9b4d2cfbcbfb8296a": {
     "model_module": "@jupyter-widgets/base",
     "model_name": "LayoutModel",
     "state": {
      "_model_module": "@jupyter-widgets/base",
      "_model_module_version": "1.2.0",
      "_model_name": "LayoutModel",
      "_view_count": null,
      "_view_module": "@jupyter-widgets/base",
      "_view_module_version": "1.2.0",
      "_view_name": "LayoutView",
      "align_content": null,
      "align_items": null,
      "align_self": null,
      "border": null,
      "bottom": null,
      "display": null,
      "flex": null,
      "flex_flow": null,
      "grid_area": null,
      "grid_auto_columns": null,
      "grid_auto_flow": null,
      "grid_auto_rows": null,
      "grid_column": null,
      "grid_gap": null,
      "grid_row": null,
      "grid_template_areas": null,
      "grid_template_columns": null,
      "grid_template_rows": null,
      "height": null,
      "justify_content": null,
      "justify_items": null,
      "left": null,
      "margin": null,
      "max_height": null,
      "max_width": null,
      "min_height": null,
      "min_width": null,
      "object_fit": null,
      "object_position": null,
      "order": null,
      "overflow": null,
      "overflow_x": null,
      "overflow_y": null,
      "padding": null,
      "right": null,
      "top": null,
      "visibility": null,
      "width": null
     }
    },
    "aa137d93949349908bb98a81694bdedf": {
     "model_module": "@jupyter-widgets/base",
     "model_name": "LayoutModel",
     "state": {
      "_model_module": "@jupyter-widgets/base",
      "_model_module_version": "1.2.0",
      "_model_name": "LayoutModel",
      "_view_count": null,
      "_view_module": "@jupyter-widgets/base",
      "_view_module_version": "1.2.0",
      "_view_name": "LayoutView",
      "align_content": null,
      "align_items": null,
      "align_self": null,
      "border": null,
      "bottom": null,
      "display": null,
      "flex": null,
      "flex_flow": null,
      "grid_area": null,
      "grid_auto_columns": null,
      "grid_auto_flow": null,
      "grid_auto_rows": null,
      "grid_column": null,
      "grid_gap": null,
      "grid_row": null,
      "grid_template_areas": null,
      "grid_template_columns": null,
      "grid_template_rows": null,
      "height": null,
      "justify_content": null,
      "justify_items": null,
      "left": null,
      "margin": null,
      "max_height": null,
      "max_width": null,
      "min_height": null,
      "min_width": null,
      "object_fit": null,
      "object_position": null,
      "order": null,
      "overflow": null,
      "overflow_x": null,
      "overflow_y": null,
      "padding": null,
      "right": null,
      "top": null,
      "visibility": null,
      "width": null
     }
    },
    "acd12bb9127f47cfa2df4345fd1ab15b": {
     "model_module": "@jupyter-widgets/controls",
     "model_name": "HTMLModel",
     "state": {
      "_dom_classes": [],
      "_model_module": "@jupyter-widgets/controls",
      "_model_module_version": "1.5.0",
      "_model_name": "HTMLModel",
      "_view_count": null,
      "_view_module": "@jupyter-widgets/controls",
      "_view_module_version": "1.5.0",
      "_view_name": "HTMLView",
      "description": "",
      "description_tooltip": null,
      "layout": "IPY_MODEL_9d86eda02d80431bb3e56f62f93fcc08",
      "placeholder": "​",
      "style": "IPY_MODEL_fa918a5a7df14ce4a532c8ebc55441a9",
      "value": " 212/212 [42:54&lt;00:00, 12.14s/it]"
     }
    },
    "ad54e38982ce452394a449fb6f495293": {
     "model_module": "@jupyter-widgets/controls",
     "model_name": "HBoxModel",
     "state": {
      "_dom_classes": [],
      "_model_module": "@jupyter-widgets/controls",
      "_model_module_version": "1.5.0",
      "_model_name": "HBoxModel",
      "_view_count": null,
      "_view_module": "@jupyter-widgets/controls",
      "_view_module_version": "1.5.0",
      "_view_name": "HBoxView",
      "box_style": "",
      "children": [
       "IPY_MODEL_4ca503c88efe4c1bb828663721173bd7",
       "IPY_MODEL_acd12bb9127f47cfa2df4345fd1ab15b"
      ],
      "layout": "IPY_MODEL_6fe5c24bfbe249abb521ab6e850f77df"
     }
    },
    "add4928563514d3892eb3a4b746deb84": {
     "model_module": "@jupyter-widgets/controls",
     "model_name": "ProgressStyleModel",
     "state": {
      "_model_module": "@jupyter-widgets/controls",
      "_model_module_version": "1.5.0",
      "_model_name": "ProgressStyleModel",
      "_view_count": null,
      "_view_module": "@jupyter-widgets/base",
      "_view_module_version": "1.2.0",
      "_view_name": "StyleView",
      "bar_color": null,
      "description_width": "initial"
     }
    },
    "afdbd946a60a4dab8fc23484d4fd5038": {
     "model_module": "@jupyter-widgets/controls",
     "model_name": "HBoxModel",
     "state": {
      "_dom_classes": [],
      "_model_module": "@jupyter-widgets/controls",
      "_model_module_version": "1.5.0",
      "_model_name": "HBoxModel",
      "_view_count": null,
      "_view_module": "@jupyter-widgets/controls",
      "_view_module_version": "1.5.0",
      "_view_name": "HBoxView",
      "box_style": "",
      "children": [
       "IPY_MODEL_d860307b950c466dbd2009bcb20af124",
       "IPY_MODEL_956cb9ebe48040238647626b0132ae1e"
      ],
      "layout": "IPY_MODEL_10cf5396a953434691ff4121ef85c0da"
     }
    },
    "b5ee9fe4da8c4aecaa567f205ce252fa": {
     "model_module": "@jupyter-widgets/base",
     "model_name": "LayoutModel",
     "state": {
      "_model_module": "@jupyter-widgets/base",
      "_model_module_version": "1.2.0",
      "_model_name": "LayoutModel",
      "_view_count": null,
      "_view_module": "@jupyter-widgets/base",
      "_view_module_version": "1.2.0",
      "_view_name": "LayoutView",
      "align_content": null,
      "align_items": null,
      "align_self": null,
      "border": null,
      "bottom": null,
      "display": null,
      "flex": null,
      "flex_flow": null,
      "grid_area": null,
      "grid_auto_columns": null,
      "grid_auto_flow": null,
      "grid_auto_rows": null,
      "grid_column": null,
      "grid_gap": null,
      "grid_row": null,
      "grid_template_areas": null,
      "grid_template_columns": null,
      "grid_template_rows": null,
      "height": null,
      "justify_content": null,
      "justify_items": null,
      "left": null,
      "margin": null,
      "max_height": null,
      "max_width": null,
      "min_height": null,
      "min_width": null,
      "object_fit": null,
      "object_position": null,
      "order": null,
      "overflow": null,
      "overflow_x": null,
      "overflow_y": null,
      "padding": null,
      "right": null,
      "top": null,
      "visibility": null,
      "width": null
     }
    },
    "c141c3dd89c1408987a78ceef3fe4e0d": {
     "model_module": "@jupyter-widgets/base",
     "model_name": "LayoutModel",
     "state": {
      "_model_module": "@jupyter-widgets/base",
      "_model_module_version": "1.2.0",
      "_model_name": "LayoutModel",
      "_view_count": null,
      "_view_module": "@jupyter-widgets/base",
      "_view_module_version": "1.2.0",
      "_view_name": "LayoutView",
      "align_content": null,
      "align_items": null,
      "align_self": null,
      "border": null,
      "bottom": null,
      "display": null,
      "flex": null,
      "flex_flow": null,
      "grid_area": null,
      "grid_auto_columns": null,
      "grid_auto_flow": null,
      "grid_auto_rows": null,
      "grid_column": null,
      "grid_gap": null,
      "grid_row": null,
      "grid_template_areas": null,
      "grid_template_columns": null,
      "grid_template_rows": null,
      "height": null,
      "justify_content": null,
      "justify_items": null,
      "left": null,
      "margin": null,
      "max_height": null,
      "max_width": null,
      "min_height": null,
      "min_width": null,
      "object_fit": null,
      "object_position": null,
      "order": null,
      "overflow": null,
      "overflow_x": null,
      "overflow_y": null,
      "padding": null,
      "right": null,
      "top": null,
      "visibility": null,
      "width": null
     }
    },
    "c192c6facbe64b67bbbe160d3206727a": {
     "model_module": "@jupyter-widgets/base",
     "model_name": "LayoutModel",
     "state": {
      "_model_module": "@jupyter-widgets/base",
      "_model_module_version": "1.2.0",
      "_model_name": "LayoutModel",
      "_view_count": null,
      "_view_module": "@jupyter-widgets/base",
      "_view_module_version": "1.2.0",
      "_view_name": "LayoutView",
      "align_content": null,
      "align_items": null,
      "align_self": null,
      "border": null,
      "bottom": null,
      "display": null,
      "flex": null,
      "flex_flow": null,
      "grid_area": null,
      "grid_auto_columns": null,
      "grid_auto_flow": null,
      "grid_auto_rows": null,
      "grid_column": null,
      "grid_gap": null,
      "grid_row": null,
      "grid_template_areas": null,
      "grid_template_columns": null,
      "grid_template_rows": null,
      "height": null,
      "justify_content": null,
      "justify_items": null,
      "left": null,
      "margin": null,
      "max_height": null,
      "max_width": null,
      "min_height": null,
      "min_width": null,
      "object_fit": null,
      "object_position": null,
      "order": null,
      "overflow": null,
      "overflow_x": null,
      "overflow_y": null,
      "padding": null,
      "right": null,
      "top": null,
      "visibility": null,
      "width": null
     }
    },
    "c4180c89e0be4734ada7068d6d42af90": {
     "model_module": "@jupyter-widgets/controls",
     "model_name": "FloatProgressModel",
     "state": {
      "_dom_classes": [],
      "_model_module": "@jupyter-widgets/controls",
      "_model_module_version": "1.5.0",
      "_model_name": "FloatProgressModel",
      "_view_count": null,
      "_view_module": "@jupyter-widgets/controls",
      "_view_module_version": "1.5.0",
      "_view_name": "ProgressView",
      "bar_style": "success",
      "description": "100%",
      "description_tooltip": null,
      "layout": "IPY_MODEL_2148171c350c4b5f9930b0baaef0a837",
      "max": 300,
      "min": 0,
      "orientation": "horizontal",
      "style": "IPY_MODEL_add4928563514d3892eb3a4b746deb84",
      "value": 300
     }
    },
    "cdd3ca40deb249c187654dae6b61a74d": {
     "model_module": "@jupyter-widgets/base",
     "model_name": "LayoutModel",
     "state": {
      "_model_module": "@jupyter-widgets/base",
      "_model_module_version": "1.2.0",
      "_model_name": "LayoutModel",
      "_view_count": null,
      "_view_module": "@jupyter-widgets/base",
      "_view_module_version": "1.2.0",
      "_view_name": "LayoutView",
      "align_content": null,
      "align_items": null,
      "align_self": null,
      "border": null,
      "bottom": null,
      "display": null,
      "flex": null,
      "flex_flow": null,
      "grid_area": null,
      "grid_auto_columns": null,
      "grid_auto_flow": null,
      "grid_auto_rows": null,
      "grid_column": null,
      "grid_gap": null,
      "grid_row": null,
      "grid_template_areas": null,
      "grid_template_columns": null,
      "grid_template_rows": null,
      "height": null,
      "justify_content": null,
      "justify_items": null,
      "left": null,
      "margin": null,
      "max_height": null,
      "max_width": null,
      "min_height": null,
      "min_width": null,
      "object_fit": null,
      "object_position": null,
      "order": null,
      "overflow": null,
      "overflow_x": null,
      "overflow_y": null,
      "padding": null,
      "right": null,
      "top": null,
      "visibility": null,
      "width": null
     }
    },
    "ce2b6ed8fff944059468ae8cfdb4af76": {
     "model_module": "@jupyter-widgets/base",
     "model_name": "LayoutModel",
     "state": {
      "_model_module": "@jupyter-widgets/base",
      "_model_module_version": "1.2.0",
      "_model_name": "LayoutModel",
      "_view_count": null,
      "_view_module": "@jupyter-widgets/base",
      "_view_module_version": "1.2.0",
      "_view_name": "LayoutView",
      "align_content": null,
      "align_items": null,
      "align_self": null,
      "border": null,
      "bottom": null,
      "display": null,
      "flex": null,
      "flex_flow": null,
      "grid_area": null,
      "grid_auto_columns": null,
      "grid_auto_flow": null,
      "grid_auto_rows": null,
      "grid_column": null,
      "grid_gap": null,
      "grid_row": null,
      "grid_template_areas": null,
      "grid_template_columns": null,
      "grid_template_rows": null,
      "height": null,
      "justify_content": null,
      "justify_items": null,
      "left": null,
      "margin": null,
      "max_height": null,
      "max_width": null,
      "min_height": null,
      "min_width": null,
      "object_fit": null,
      "object_position": null,
      "order": null,
      "overflow": null,
      "overflow_x": null,
      "overflow_y": null,
      "padding": null,
      "right": null,
      "top": null,
      "visibility": null,
      "width": null
     }
    },
    "d3842ea70fb740b3a1cc56ae142f565b": {
     "model_module": "@jupyter-widgets/controls",
     "model_name": "HBoxModel",
     "state": {
      "_dom_classes": [],
      "_model_module": "@jupyter-widgets/controls",
      "_model_module_version": "1.5.0",
      "_model_name": "HBoxModel",
      "_view_count": null,
      "_view_module": "@jupyter-widgets/controls",
      "_view_module_version": "1.5.0",
      "_view_name": "HBoxView",
      "box_style": "",
      "children": [
       "IPY_MODEL_66cfb884e7d349fe9a660b2bd35622b0",
       "IPY_MODEL_866f0230120d4c8f894960ac329761dc"
      ],
      "layout": "IPY_MODEL_21898685c9a34f7d95cdd1d02d2126d6"
     }
    },
    "d599df437b1d4310b1f3b39781cc217e": {
     "model_module": "@jupyter-widgets/controls",
     "model_name": "HTMLModel",
     "state": {
      "_dom_classes": [],
      "_model_module": "@jupyter-widgets/controls",
      "_model_module_version": "1.5.0",
      "_model_name": "HTMLModel",
      "_view_count": null,
      "_view_module": "@jupyter-widgets/controls",
      "_view_module_version": "1.5.0",
      "_view_name": "HTMLView",
      "description": "",
      "description_tooltip": null,
      "layout": "IPY_MODEL_6f25f5ac977a44a68126e64d0a30302a",
      "placeholder": "​",
      "style": "IPY_MODEL_feea881735c3434aa2bae747a930f6a7",
      "value": " 300/300 [02:01&lt;00:00,  2.47it/s]"
     }
    },
    "d712547d5aa2410b8f822c86740cf006": {
     "model_module": "@jupyter-widgets/controls",
     "model_name": "DescriptionStyleModel",
     "state": {
      "_model_module": "@jupyter-widgets/controls",
      "_model_module_version": "1.5.0",
      "_model_name": "DescriptionStyleModel",
      "_view_count": null,
      "_view_module": "@jupyter-widgets/base",
      "_view_module_version": "1.2.0",
      "_view_name": "StyleView",
      "description_width": ""
     }
    },
    "d860307b950c466dbd2009bcb20af124": {
     "model_module": "@jupyter-widgets/controls",
     "model_name": "FloatProgressModel",
     "state": {
      "_dom_classes": [],
      "_model_module": "@jupyter-widgets/controls",
      "_model_module_version": "1.5.0",
      "_model_name": "FloatProgressModel",
      "_view_count": null,
      "_view_module": "@jupyter-widgets/controls",
      "_view_module_version": "1.5.0",
      "_view_name": "ProgressView",
      "bar_style": "success",
      "description": "100%",
      "description_tooltip": null,
      "layout": "IPY_MODEL_73e748c526e04923b10812ebbffab56d",
      "max": 357,
      "min": 0,
      "orientation": "horizontal",
      "style": "IPY_MODEL_45af5589a67d4cd387c3c58661486a87",
      "value": 357
     }
    },
    "e0566c4576a747afb57fa56485c1ad6f": {
     "model_module": "@jupyter-widgets/controls",
     "model_name": "ProgressStyleModel",
     "state": {
      "_model_module": "@jupyter-widgets/controls",
      "_model_module_version": "1.5.0",
      "_model_name": "ProgressStyleModel",
      "_view_count": null,
      "_view_module": "@jupyter-widgets/base",
      "_view_module_version": "1.2.0",
      "_view_name": "StyleView",
      "bar_color": null,
      "description_width": "initial"
     }
    },
    "e56eb9072fe0475e8a2384692b9e0fd7": {
     "model_module": "@jupyter-widgets/controls",
     "model_name": "HBoxModel",
     "state": {
      "_dom_classes": [],
      "_model_module": "@jupyter-widgets/controls",
      "_model_module_version": "1.5.0",
      "_model_name": "HBoxModel",
      "_view_count": null,
      "_view_module": "@jupyter-widgets/controls",
      "_view_module_version": "1.5.0",
      "_view_name": "HBoxView",
      "box_style": "",
      "children": [
       "IPY_MODEL_1796e752fb464daabf956cb6096ef18a",
       "IPY_MODEL_8e54736217ce44e0aa71f95d02a86caf"
      ],
      "layout": "IPY_MODEL_0a57178145a7469f9105d21df4b4b244"
     }
    },
    "e84931b691c049d98229088f031cd4f1": {
     "model_module": "@jupyter-widgets/base",
     "model_name": "LayoutModel",
     "state": {
      "_model_module": "@jupyter-widgets/base",
      "_model_module_version": "1.2.0",
      "_model_name": "LayoutModel",
      "_view_count": null,
      "_view_module": "@jupyter-widgets/base",
      "_view_module_version": "1.2.0",
      "_view_name": "LayoutView",
      "align_content": null,
      "align_items": null,
      "align_self": null,
      "border": null,
      "bottom": null,
      "display": null,
      "flex": null,
      "flex_flow": null,
      "grid_area": null,
      "grid_auto_columns": null,
      "grid_auto_flow": null,
      "grid_auto_rows": null,
      "grid_column": null,
      "grid_gap": null,
      "grid_row": null,
      "grid_template_areas": null,
      "grid_template_columns": null,
      "grid_template_rows": null,
      "height": null,
      "justify_content": null,
      "justify_items": null,
      "left": null,
      "margin": null,
      "max_height": null,
      "max_width": null,
      "min_height": null,
      "min_width": null,
      "object_fit": null,
      "object_position": null,
      "order": null,
      "overflow": null,
      "overflow_x": null,
      "overflow_y": null,
      "padding": null,
      "right": null,
      "top": null,
      "visibility": null,
      "width": null
     }
    },
    "f0a58472f8324153a0b320e760a0c5a7": {
     "model_module": "@jupyter-widgets/controls",
     "model_name": "HTMLModel",
     "state": {
      "_dom_classes": [],
      "_model_module": "@jupyter-widgets/controls",
      "_model_module_version": "1.5.0",
      "_model_name": "HTMLModel",
      "_view_count": null,
      "_view_module": "@jupyter-widgets/controls",
      "_view_module_version": "1.5.0",
      "_view_name": "HTMLView",
      "description": "",
      "description_tooltip": null,
      "layout": "IPY_MODEL_1f3d3b3e08c1413eaea2d0df9fd8ea42",
      "placeholder": "​",
      "style": "IPY_MODEL_030f566665034196913945e561ff3999",
      "value": " 356/356 [07:25&lt;00:00,  1.25s/it]"
     }
    },
    "f48bf19cfc45452380d525d418ae3fb4": {
     "model_module": "@jupyter-widgets/controls",
     "model_name": "DescriptionStyleModel",
     "state": {
      "_model_module": "@jupyter-widgets/controls",
      "_model_module_version": "1.5.0",
      "_model_name": "DescriptionStyleModel",
      "_view_count": null,
      "_view_module": "@jupyter-widgets/base",
      "_view_module_version": "1.2.0",
      "_view_name": "StyleView",
      "description_width": ""
     }
    },
    "f7ff2f72f50f4eed990692d731deec45": {
     "model_module": "@jupyter-widgets/controls",
     "model_name": "HTMLModel",
     "state": {
      "_dom_classes": [],
      "_model_module": "@jupyter-widgets/controls",
      "_model_module_version": "1.5.0",
      "_model_name": "HTMLModel",
      "_view_count": null,
      "_view_module": "@jupyter-widgets/controls",
      "_view_module_version": "1.5.0",
      "_view_name": "HTMLView",
      "description": "",
      "description_tooltip": null,
      "layout": "IPY_MODEL_63f2038ed1dc43ed9fe135fe628133d4",
      "placeholder": "​",
      "style": "IPY_MODEL_f48bf19cfc45452380d525d418ae3fb4",
      "value": " 299/299 [1:15:33&lt;00:00, 15.16s/it]"
     }
    },
    "fa918a5a7df14ce4a532c8ebc55441a9": {
     "model_module": "@jupyter-widgets/controls",
     "model_name": "DescriptionStyleModel",
     "state": {
      "_model_module": "@jupyter-widgets/controls",
      "_model_module_version": "1.5.0",
      "_model_name": "DescriptionStyleModel",
      "_view_count": null,
      "_view_module": "@jupyter-widgets/base",
      "_view_module_version": "1.2.0",
      "_view_name": "StyleView",
      "description_width": ""
     }
    },
    "feea881735c3434aa2bae747a930f6a7": {
     "model_module": "@jupyter-widgets/controls",
     "model_name": "DescriptionStyleModel",
     "state": {
      "_model_module": "@jupyter-widgets/controls",
      "_model_module_version": "1.5.0",
      "_model_name": "DescriptionStyleModel",
      "_view_count": null,
      "_view_module": "@jupyter-widgets/base",
      "_view_module_version": "1.2.0",
      "_view_name": "StyleView",
      "description_width": ""
     }
    }
   }
  }
 },
 "nbformat": 4,
 "nbformat_minor": 1
}
