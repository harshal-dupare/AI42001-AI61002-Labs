{
 "cells": [
  {
   "cell_type": "markdown",
   "metadata": {},
   "source": [
    "# 18MA20015 | Harshal Dupare\n",
    "\n",
    "There is a dataset of sign language using hand gestures. So there are 10 classes each classes having 3000 images. All the images are in RGB format. You need to perform the following steps.\n",
    "\n",
    "1. Convert the image into binary image. From each class in the dataset use 70% for training and 30% for testing.\n",
    "2. Extract features from these and store them in a csv file (features should be chosen by you - eg. binary pixel vectors, total number of white pixels, local binary patterns). Represent each image using such features. [2 marks]\n",
    "3. Use the features for classification using SVM (default setting). Print classification report. [3 marks]\n",
    "4. Apply grid search for hyper-parameter tuning.(eg: kernel, C, gamma). [3 marks]\n",
    "5. Report the model with best accuracy. [2 marks]"
   ]
  },
  {
   "cell_type": "code",
   "execution_count": 2,
   "metadata": {},
   "outputs": [],
   "source": [
    "import os\n",
    "import numpy as np\n",
    "import pandas as pd\n",
    "import sklearn\n",
    "from sklearn.model_selection import train_test_split\n",
    "from sklearn import svm\n",
    "from sklearn.model_selection import GridSearchCV\n",
    "from sklearn.metrics import classification_report\n",
    "import cv2\n",
    "import matplotlib.pyplot as plt\n",
    "from tqdm.notebook import tqdm"
   ]
  },
  {
   "cell_type": "code",
   "execution_count": 3,
   "metadata": {},
   "outputs": [],
   "source": [
    "# required data\n",
    "CWD = os.getcwd()\n",
    "DATA_FOLDER = \"Lab0609\"\n",
    "ImageTypes = [\"A\",\"B\",\"C\",\"D\",\"E\",\"F\",\"G\",\"H\",\"I\",\"nothing\"]\n",
    "ImageCounts = [3000,3000,3000,3000,3000,3000,3000,3000,3000,3000]"
   ]
  },
  {
   "cell_type": "code",
   "execution_count": 4,
   "metadata": {},
   "outputs": [],
   "source": [
    "# loads image as gray scale image\n",
    "# takes the mean of (csz,csz) {here (10,10)} \n",
    "# size blocks covering image as initial features values \n",
    "# now takes median of all the values and uses it\n",
    "# as the threshold for binary features i.e. \n",
    "# if ( >threshold ) then 1 else 0 for the fet[i,j] value\n",
    "# reshapes it and returns as a dataframe object\n",
    "\n",
    "def image_to_row_df(path,csz=10):\n",
    "    img = cv2.imread(path,0)\n",
    "    fet = np.zeros((img.shape[0]//csz,img.shape[1]//csz))\n",
    "    for i in range(fet.shape[0]):\n",
    "        for j in range(fet.shape[1]):\n",
    "            fet[i,j] = np.mean(img[i*10:(i+1)*10,j*10:(j+1)*10])//1\n",
    "    fet = 1*( fet > np.median(fet) )\n",
    "    return pd.DataFrame(fet.reshape([-1,1])).T\n"
   ]
  },
  {
   "cell_type": "code",
   "execution_count": 5,
   "metadata": {},
   "outputs": [
    {
     "data": {
      "image/png": "[encoded data removed]",
      "text/plain": [
       "<Figure size 432x288 with 1 Axes>"
      ]
     },
     "metadata": {
      "needs_background": "light"
     },
     "output_type": "display_data"
    }
   ],
   "source": [
    "# example output for feature understanding\n",
    "ipath = os.path.join(CWD,DATA_FOLDER,ImageTypes[0],ImageTypes[0]+str(100)+\".jpg\")\n",
    "plt.imshow(np.array(image_to_row_df(ipath)).reshape([20,20]))\n",
    "plt.title(ImageTypes[0])\n",
    "plt.show()"
   ]
  },
  {
   "cell_type": "code",
   "execution_count": 6,
   "metadata": {},
   "outputs": [
    {
     "data": {
      "application/vnd.jupyter.widget-view+json": {
       "model_id": "db85817e3f7e4d008959bd090fa1a230",
       "version_major": 2,
       "version_minor": 0
      },
      "text/plain": [
       "HBox(children=(HTML(value=''), FloatProgress(value=1.0, bar_style='info', layout=Layout(width='20px'), max=1.0…"
      ]
     },
     "metadata": {},
     "output_type": "display_data"
    },
    {
     "name": "stdout",
     "output_type": "stream",
     "text": [
      "\n"
     ]
    }
   ],
   "source": [
    "# converts loads each image and processes it and adds to the datafarme\n",
    "\n",
    "df = pd.DataFrame()\n",
    "problem_paths = []\n",
    "for ic,it in tqdm(enumerate(ImageTypes)):\n",
    "    for i in range(1,ImageCounts[ic]+1):\n",
    "        ipath = os.path.join(CWD,DATA_FOLDER,ImageTypes[ic],ImageTypes[ic]+str(i)+\".jpg\")\n",
    "        try:\n",
    "            tdf = image_to_row_df(ipath)\n",
    "            tdf[\"Class\"]=ic\n",
    "            df=df.append(tdf, ignore_index=True)\n",
    "        except:\n",
    "            problem_paths.append(ipath)\n"
   ]
  },
  {
   "cell_type": "code",
   "execution_count": 7,
   "metadata": {},
   "outputs": [
    {
     "data": {
      "text/plain": [
       "30000"
      ]
     },
     "execution_count": 7,
     "metadata": {},
     "output_type": "execute_result"
    }
   ],
   "source": [
    "# check if the length of datafarme is 30000\n",
    "\n",
    "len(df)"
   ]
  },
  {
   "cell_type": "code",
   "execution_count": 8,
   "metadata": {},
   "outputs": [
    {
     "data": {
      "text/plain": [
       "0"
      ]
     },
     "execution_count": 8,
     "metadata": {},
     "output_type": "execute_result"
    }
   ],
   "source": [
    "# check if no images are left out\n",
    "\n",
    "len(problem_paths)"
   ]
  },
  {
   "cell_type": "code",
   "execution_count": 9,
   "metadata": {},
   "outputs": [],
   "source": [
    "# stores as csv \n",
    "\n",
    "df.to_csv(os.path.join(CWD,DATA_FOLDER+\".csv\") ,index = False)"
   ]
  },
  {
   "cell_type": "code",
   "execution_count": 10,
   "metadata": {},
   "outputs": [],
   "source": [
    "X,y = np.array(df.iloc[:,:-1]),np.array(df.iloc[:,400])"
   ]
  },
  {
   "cell_type": "code",
   "execution_count": 11,
   "metadata": {},
   "outputs": [
    {
     "name": "stdout",
     "output_type": "stream",
     "text": [
      "(9000, 400)\n",
      "(21000, 400)\n",
      "(9000,)\n",
      "(21000,)\n"
     ]
    }
   ],
   "source": [
    "# split data into 70-30%\n",
    "X_train , X_test , y_train, y_test = train_test_split(X, y, stratify=y,test_size = 0.3)\n",
    "print(X_test.shape)\n",
    "print(X_train.shape)\n",
    "print(y_test.shape)\n",
    "print(y_train.shape)"
   ]
  },
  {
   "cell_type": "code",
   "execution_count": 12,
   "metadata": {},
   "outputs": [],
   "source": [
    "# classifier with default patameters\n",
    "\n",
    "clf = svm.SVC()"
   ]
  },
  {
   "cell_type": "code",
   "execution_count": 13,
   "metadata": {},
   "outputs": [
    {
     "data": {
      "text/plain": [
       "SVC()"
      ]
     },
     "execution_count": 13,
     "metadata": {},
     "output_type": "execute_result"
    }
   ],
   "source": [
    "# fit the model\n",
    "\n",
    "clf.fit(X_train, y_train)"
   ]
  },
  {
   "cell_type": "code",
   "execution_count": 14,
   "metadata": {},
   "outputs": [
    {
     "name": "stdout",
     "output_type": "stream",
     "text": [
      "              precision    recall  f1-score   support\n",
      "\n",
      "           0       0.91      0.92      0.92       900\n",
      "           1       0.88      0.93      0.90       900\n",
      "           2       0.94      0.97      0.96       900\n",
      "           3       0.92      0.94      0.93       900\n",
      "           4       0.94      0.88      0.91       900\n",
      "           5       0.98      0.92      0.95       900\n",
      "           6       0.92      0.95      0.94       900\n",
      "           7       0.95      0.95      0.95       900\n",
      "           8       0.95      0.93      0.94       900\n",
      "           9       1.00      1.00      1.00       900\n",
      "\n",
      "    accuracy                           0.94      9000\n",
      "   macro avg       0.94      0.94      0.94      9000\n",
      "weighted avg       0.94      0.94      0.94      9000\n",
      "\n"
     ]
    }
   ],
   "source": [
    "y_pred=clf.predict(X_test)\n",
    "print(classification_report(y_test,y_pred))"
   ]
  },
  {
   "cell_type": "code",
   "execution_count": 15,
   "metadata": {},
   "outputs": [],
   "source": [
    "# hyperparameter tuning\n",
    "params = {'kernel': ['rbf'],\n",
    "              'C': [0.1, 0.5, 1, 2], \n",
    "              'gamma': ['scale',1e-2,1e-1,1]} "
   ]
  },
  {
   "cell_type": "code",
   "execution_count": 26,
   "metadata": {},
   "outputs": [
    {
     "data": {
      "application/vnd.jupyter.widget-view+json": {
       "model_id": "8986d9b5da574026b77375d40613742e",
       "version_major": 2,
       "version_minor": 0
      },
      "text/plain": [
       "HBox(children=(HTML(value=''), FloatProgress(value=0.0, max=4.0), HTML(value='')))"
      ]
     },
     "metadata": {},
     "output_type": "display_data"
    },
    {
     "name": "stdout",
     "output_type": "stream",
     "text": [
      "Accuracy with hyperparamters gamma: scale & C: 0.1 is 74.74\n",
      "Accuracy with hyperparamters gamma: 0.01 & C: 0.1 is 74.72\n",
      "Accuracy with hyperparamters gamma: 0.1 & C: 0.1 is 69.84\n",
      "Accuracy with hyperparamters gamma: 1 & C: 0.1 is 13.99\n",
      "Accuracy with hyperparamters gamma: scale & C: 0.5 is 91.03\n",
      "Accuracy with hyperparamters gamma: 0.01 & C: 0.5 is 91.02\n",
      "Accuracy with hyperparamters gamma: 0.1 & C: 0.5 is 96.42\n",
      "Accuracy with hyperparamters gamma: 1 & C: 0.5 is 24.01\n",
      "Accuracy with hyperparamters gamma: scale & C: 1 is 93.87\n",
      "Accuracy with hyperparamters gamma: 0.01 & C: 1 is 93.87\n",
      "Accuracy with hyperparamters gamma: 0.1 & C: 1 is 98.06\n",
      "Accuracy with hyperparamters gamma: 1 & C: 1 is 46.86\n",
      "Accuracy with hyperparamters gamma: scale & C: 2 is 96.04\n",
      "Accuracy with hyperparamters gamma: 0.01 & C: 2 is 96.04\n",
      "Accuracy with hyperparamters gamma: 0.1 & C: 2 is 98.26\n",
      "Accuracy with hyperparamters gamma: 1 & C: 2 is 49.31\n",
      "\n"
     ]
    }
   ],
   "source": [
    "# finding best hyperparameter using grid search\n",
    "\n",
    "opt_acc = 0\n",
    "best_model = None\n",
    "for k in params['kernel']:\n",
    "    for c in tqdm(params['C']):\n",
    "        for g in params['gamma']:\n",
    "            clf = svm.SVC(kernel = k,C=c,gamma=g)\n",
    "            clf.fit(X_train, y_train)\n",
    "            y_pred=clf.predict(X_test)\n",
    "            acc = np.mean(1*(y_pred==y_test))\n",
    "            print(f\"Accuracy with hyperparamters gamma: {g} & C: {c} is {acc*100:.2f}\")\n",
    "            if opt_acc <= acc:\n",
    "                opt_acc = acc\n",
    "                best_model = clf"
   ]
  },
  {
   "cell_type": "code",
   "execution_count": 28,
   "metadata": {},
   "outputs": [
    {
     "name": "stdout",
     "output_type": "stream",
     "text": [
      "              precision    recall  f1-score   support\n",
      "\n",
      "           0       0.97      0.98      0.98       900\n",
      "           1       0.97      0.98      0.98       900\n",
      "           2       1.00      0.99      0.99       900\n",
      "           3       0.98      0.98      0.98       900\n",
      "           4       0.99      0.96      0.97       900\n",
      "           5       0.96      0.99      0.98       900\n",
      "           6       0.98      0.98      0.98       900\n",
      "           7       0.99      0.98      0.99       900\n",
      "           8       0.99      0.97      0.98       900\n",
      "           9       1.00      1.00      1.00       900\n",
      "\n",
      "    accuracy                           0.98      9000\n",
      "   macro avg       0.98      0.98      0.98      9000\n",
      "weighted avg       0.98      0.98      0.98      9000\n",
      "\n"
     ]
    }
   ],
   "source": [
    "# report on best model\n",
    "y_pred=best_model.predict(X_test)\n",
    "print(classification_report(y_test,y_pred))"
   ]
  },
  {
   "cell_type": "code",
   "execution_count": null,
   "metadata": {},
   "outputs": [],
   "source": []
  }
 ],
 "metadata": {
  "kernelspec": {
   "display_name": "Python 3",
   "language": "python",
   "name": "python3"
  },
  "language_info": {
   "codemirror_mode": {
    "name": "ipython",
    "version": 3
   },
   "file_extension": ".py",
   "mimetype": "text/x-python",
   "name": "python",
   "nbconvert_exporter": "python",
   "pygments_lexer": "ipython3",
   "version": "3.7.7"
  }
 },
 "nbformat": 4,
 "nbformat_minor": 4
}
